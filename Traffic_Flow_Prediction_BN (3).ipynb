{
  "nbformat": 4,
  "nbformat_minor": 0,
  "metadata": {
    "colab": {
      "provenance": []
    },
    "kernelspec": {
      "name": "python3",
      "display_name": "Python 3"
    },
    "language_info": {
      "name": "python"
    }
  },
  "cells": [
    {
      "cell_type": "code",
      "source": [
        "pip install osmnx requests pandas"
      ],
      "metadata": {
        "colab": {
          "base_uri": "https://localhost:8080/"
        },
        "id": "TjU15d6nA3V-",
        "outputId": "192d2898-c89b-4030-df7e-a572dc6354c8"
      },
      "execution_count": null,
      "outputs": [
        {
          "output_type": "stream",
          "name": "stdout",
          "text": [
            "Collecting osmnx\n",
            "  Downloading osmnx-2.0.2-py3-none-any.whl.metadata (4.9 kB)\n",
            "Requirement already satisfied: requests in /usr/local/lib/python3.11/dist-packages (2.32.3)\n",
            "Requirement already satisfied: pandas in /usr/local/lib/python3.11/dist-packages (2.2.2)\n",
            "Requirement already satisfied: geopandas>=1.0 in /usr/local/lib/python3.11/dist-packages (from osmnx) (1.0.1)\n",
            "Requirement already satisfied: networkx>=2.5 in /usr/local/lib/python3.11/dist-packages (from osmnx) (3.4.2)\n",
            "Requirement already satisfied: numpy>=1.22 in /usr/local/lib/python3.11/dist-packages (from osmnx) (2.0.2)\n",
            "Requirement already satisfied: shapely>=2.0 in /usr/local/lib/python3.11/dist-packages (from osmnx) (2.0.7)\n",
            "Requirement already satisfied: charset-normalizer<4,>=2 in /usr/local/lib/python3.11/dist-packages (from requests) (3.4.1)\n",
            "Requirement already satisfied: idna<4,>=2.5 in /usr/local/lib/python3.11/dist-packages (from requests) (3.10)\n",
            "Requirement already satisfied: urllib3<3,>=1.21.1 in /usr/local/lib/python3.11/dist-packages (from requests) (2.3.0)\n",
            "Requirement already satisfied: certifi>=2017.4.17 in /usr/local/lib/python3.11/dist-packages (from requests) (2025.1.31)\n",
            "Requirement already satisfied: python-dateutil>=2.8.2 in /usr/local/lib/python3.11/dist-packages (from pandas) (2.8.2)\n",
            "Requirement already satisfied: pytz>=2020.1 in /usr/local/lib/python3.11/dist-packages (from pandas) (2025.2)\n",
            "Requirement already satisfied: tzdata>=2022.7 in /usr/local/lib/python3.11/dist-packages (from pandas) (2025.2)\n",
            "Requirement already satisfied: pyogrio>=0.7.2 in /usr/local/lib/python3.11/dist-packages (from geopandas>=1.0->osmnx) (0.10.0)\n",
            "Requirement already satisfied: packaging in /usr/local/lib/python3.11/dist-packages (from geopandas>=1.0->osmnx) (24.2)\n",
            "Requirement already satisfied: pyproj>=3.3.0 in /usr/local/lib/python3.11/dist-packages (from geopandas>=1.0->osmnx) (3.7.1)\n",
            "Requirement already satisfied: six>=1.5 in /usr/local/lib/python3.11/dist-packages (from python-dateutil>=2.8.2->pandas) (1.17.0)\n",
            "Downloading osmnx-2.0.2-py3-none-any.whl (99 kB)\n",
            "\u001b[2K   \u001b[90m━━━━━━━━━━━━━━━━━━━━━━━━━━━━━━━━━━━━━━━━\u001b[0m \u001b[32m99.9/99.9 kB\u001b[0m \u001b[31m2.2 MB/s\u001b[0m eta \u001b[36m0:00:00\u001b[0m\n",
            "\u001b[?25hInstalling collected packages: osmnx\n",
            "Successfully installed osmnx-2.0.2\n"
          ]
        }
      ]
    },
    {
      "cell_type": "code",
      "execution_count": null,
      "metadata": {
        "colab": {
          "base_uri": "https://localhost:8080/"
        },
        "id": "Xct3c2acAzsO",
        "outputId": "27019bc9-4382-445c-f77e-bbec2e216661"
      },
      "outputs": [
        {
          "output_type": "stream",
          "name": "stdout",
          "text": [
            "                                   geometry          highway name name:ta  \\\n",
            "element id                                                                  \n",
            "node    30037235  POINT (80.26517 13.08078)  traffic_signals  NaN     NaN   \n",
            "        30037236   POINT (80.26278 13.0803)  traffic_signals  NaN     NaN   \n",
            "        30037239  POINT (80.25877 13.07943)  traffic_signals  NaN     NaN   \n",
            "        30037241    POINT (80.25468 13.079)  traffic_signals  NaN     NaN   \n",
            "        30037243  POINT (80.25169 13.07889)  traffic_signals  NaN     NaN   \n",
            "\n",
            "                 junction traffic_signals crossing button_operated  \\\n",
            "element id                                                           \n",
            "node    30037235      NaN             NaN      NaN             NaN   \n",
            "        30037236      NaN             NaN      NaN             NaN   \n",
            "        30037239      NaN             NaN      NaN             NaN   \n",
            "        30037241      NaN             NaN      NaN             NaN   \n",
            "        30037243      NaN             NaN      NaN             NaN   \n",
            "\n",
            "                 crossing_ref traffic_signals:sound traffic_signals:vibration  \\\n",
            "element id                                                                      \n",
            "node    30037235          NaN                   NaN                       NaN   \n",
            "        30037236          NaN                   NaN                       NaN   \n",
            "        30037239          NaN                   NaN                       NaN   \n",
            "        30037241          NaN                   NaN                       NaN   \n",
            "        30037243          NaN                   NaN                       NaN   \n",
            "\n",
            "                 crossing:island traffic_signals:direction man_made  \\\n",
            "element id                                                            \n",
            "node    30037235             NaN                       NaN      NaN   \n",
            "        30037236             NaN                       NaN      NaN   \n",
            "        30037239             NaN                       NaN      NaN   \n",
            "        30037241             NaN                       NaN      NaN   \n",
            "        30037243             NaN                       NaN      NaN   \n",
            "\n",
            "                 surveillance surveillance:type  \n",
            "element id                                       \n",
            "node    30037235          NaN               NaN  \n",
            "        30037236          NaN               NaN  \n",
            "        30037239          NaN               NaN  \n",
            "        30037241          NaN               NaN  \n",
            "        30037243          NaN               NaN  \n"
          ]
        }
      ],
      "source": [
        "import osmnx as ox\n",
        "import geopandas as gpd\n",
        "\n",
        "# Define the place for which to fetch traffic signals\n",
        "place_name = \"Chennai, India\"\n",
        "\n",
        "# Fetch traffic signals in the specified area using the correct method\n",
        "traffic_signals = ox.features_from_place(place_name, tags={'highway': 'traffic_signals'})\n",
        "\n",
        "# Display the first few records\n",
        "print(traffic_signals.head())\n"
      ]
    },
    {
      "cell_type": "code",
      "source": [
        "pip install folium"
      ],
      "metadata": {
        "colab": {
          "base_uri": "https://localhost:8080/"
        },
        "id": "3rJlF1BUCd32",
        "outputId": "a02b7cf6-60a0-49d1-8f57-b8313931ee3c"
      },
      "execution_count": null,
      "outputs": [
        {
          "output_type": "stream",
          "name": "stdout",
          "text": [
            "Requirement already satisfied: folium in /usr/local/lib/python3.11/dist-packages (0.19.5)\n",
            "Requirement already satisfied: branca>=0.6.0 in /usr/local/lib/python3.11/dist-packages (from folium) (0.8.1)\n",
            "Requirement already satisfied: jinja2>=2.9 in /usr/local/lib/python3.11/dist-packages (from folium) (3.1.6)\n",
            "Requirement already satisfied: numpy in /usr/local/lib/python3.11/dist-packages (from folium) (2.0.2)\n",
            "Requirement already satisfied: requests in /usr/local/lib/python3.11/dist-packages (from folium) (2.32.3)\n",
            "Requirement already satisfied: xyzservices in /usr/local/lib/python3.11/dist-packages (from folium) (2025.1.0)\n",
            "Requirement already satisfied: MarkupSafe>=2.0 in /usr/local/lib/python3.11/dist-packages (from jinja2>=2.9->folium) (3.0.2)\n",
            "Requirement already satisfied: charset-normalizer<4,>=2 in /usr/local/lib/python3.11/dist-packages (from requests->folium) (3.4.1)\n",
            "Requirement already satisfied: idna<4,>=2.5 in /usr/local/lib/python3.11/dist-packages (from requests->folium) (3.10)\n",
            "Requirement already satisfied: urllib3<3,>=1.21.1 in /usr/local/lib/python3.11/dist-packages (from requests->folium) (2.3.0)\n",
            "Requirement already satisfied: certifi>=2017.4.17 in /usr/local/lib/python3.11/dist-packages (from requests->folium) (2025.1.31)\n"
          ]
        }
      ]
    },
    {
      "cell_type": "code",
      "source": [
        "!pip install requests pandas numpy folium pomegranate osmnx geopandas"
      ],
      "metadata": {
        "colab": {
          "base_uri": "https://localhost:8080/"
        },
        "id": "OBL9zrJNCkRX",
        "outputId": "976b01cb-0243-448d-9809-0acf80a8d6ce"
      },
      "execution_count": null,
      "outputs": [
        {
          "output_type": "stream",
          "name": "stdout",
          "text": [
            "Requirement already satisfied: requests in /usr/local/lib/python3.11/dist-packages (2.32.3)\n",
            "Requirement already satisfied: pandas in /usr/local/lib/python3.11/dist-packages (2.2.2)\n",
            "Requirement already satisfied: numpy in /usr/local/lib/python3.11/dist-packages (2.0.2)\n",
            "Requirement already satisfied: folium in /usr/local/lib/python3.11/dist-packages (0.19.5)\n",
            "Collecting pomegranate\n",
            "  Downloading pomegranate-1.1.2-py3-none-any.whl.metadata (566 bytes)\n",
            "Requirement already satisfied: osmnx in /usr/local/lib/python3.11/dist-packages (2.0.2)\n",
            "Requirement already satisfied: geopandas in /usr/local/lib/python3.11/dist-packages (1.0.1)\n",
            "Requirement already satisfied: charset-normalizer<4,>=2 in /usr/local/lib/python3.11/dist-packages (from requests) (3.4.1)\n",
            "Requirement already satisfied: idna<4,>=2.5 in /usr/local/lib/python3.11/dist-packages (from requests) (3.10)\n",
            "Requirement already satisfied: urllib3<3,>=1.21.1 in /usr/local/lib/python3.11/dist-packages (from requests) (2.3.0)\n",
            "Requirement already satisfied: certifi>=2017.4.17 in /usr/local/lib/python3.11/dist-packages (from requests) (2025.1.31)\n",
            "Requirement already satisfied: python-dateutil>=2.8.2 in /usr/local/lib/python3.11/dist-packages (from pandas) (2.8.2)\n",
            "Requirement already satisfied: pytz>=2020.1 in /usr/local/lib/python3.11/dist-packages (from pandas) (2025.2)\n",
            "Requirement already satisfied: tzdata>=2022.7 in /usr/local/lib/python3.11/dist-packages (from pandas) (2025.2)\n",
            "Requirement already satisfied: branca>=0.6.0 in /usr/local/lib/python3.11/dist-packages (from folium) (0.8.1)\n",
            "Requirement already satisfied: jinja2>=2.9 in /usr/local/lib/python3.11/dist-packages (from folium) (3.1.6)\n",
            "Requirement already satisfied: xyzservices in /usr/local/lib/python3.11/dist-packages (from folium) (2025.1.0)\n",
            "Requirement already satisfied: scipy>=1.6.2 in /usr/local/lib/python3.11/dist-packages (from pomegranate) (1.14.1)\n",
            "Requirement already satisfied: scikit-learn>=1.0.2 in /usr/local/lib/python3.11/dist-packages (from pomegranate) (1.6.1)\n",
            "Requirement already satisfied: torch>=1.9.0 in /usr/local/lib/python3.11/dist-packages (from pomegranate) (2.6.0+cu124)\n",
            "Collecting apricot-select>=0.6.1 (from pomegranate)\n",
            "  Downloading apricot-select-0.6.1.tar.gz (28 kB)\n",
            "  Preparing metadata (setup.py) ... \u001b[?25l\u001b[?25hdone\n",
            "Requirement already satisfied: networkx>=2.8.4 in /usr/local/lib/python3.11/dist-packages (from pomegranate) (3.4.2)\n",
            "Requirement already satisfied: shapely>=2.0 in /usr/local/lib/python3.11/dist-packages (from osmnx) (2.0.7)\n",
            "Requirement already satisfied: pyogrio>=0.7.2 in /usr/local/lib/python3.11/dist-packages (from geopandas) (0.10.0)\n",
            "Requirement already satisfied: packaging in /usr/local/lib/python3.11/dist-packages (from geopandas) (24.2)\n",
            "Requirement already satisfied: pyproj>=3.3.0 in /usr/local/lib/python3.11/dist-packages (from geopandas) (3.7.1)\n",
            "Requirement already satisfied: numba>=0.43.0 in /usr/local/lib/python3.11/dist-packages (from apricot-select>=0.6.1->pomegranate) (0.60.0)\n",
            "Requirement already satisfied: tqdm>=4.24.0 in /usr/local/lib/python3.11/dist-packages (from apricot-select>=0.6.1->pomegranate) (4.67.1)\n",
            "Collecting nose (from apricot-select>=0.6.1->pomegranate)\n",
            "  Downloading nose-1.3.7-py3-none-any.whl.metadata (1.7 kB)\n",
            "Requirement already satisfied: MarkupSafe>=2.0 in /usr/local/lib/python3.11/dist-packages (from jinja2>=2.9->folium) (3.0.2)\n",
            "Requirement already satisfied: six>=1.5 in /usr/local/lib/python3.11/dist-packages (from python-dateutil>=2.8.2->pandas) (1.17.0)\n",
            "Requirement already satisfied: joblib>=1.2.0 in /usr/local/lib/python3.11/dist-packages (from scikit-learn>=1.0.2->pomegranate) (1.4.2)\n",
            "Requirement already satisfied: threadpoolctl>=3.1.0 in /usr/local/lib/python3.11/dist-packages (from scikit-learn>=1.0.2->pomegranate) (3.6.0)\n",
            "Requirement already satisfied: filelock in /usr/local/lib/python3.11/dist-packages (from torch>=1.9.0->pomegranate) (3.18.0)\n",
            "Requirement already satisfied: typing-extensions>=4.10.0 in /usr/local/lib/python3.11/dist-packages (from torch>=1.9.0->pomegranate) (4.13.0)\n",
            "Requirement already satisfied: fsspec in /usr/local/lib/python3.11/dist-packages (from torch>=1.9.0->pomegranate) (2025.3.2)\n",
            "Requirement already satisfied: nvidia-cuda-nvrtc-cu12==12.4.127 in /usr/local/lib/python3.11/dist-packages (from torch>=1.9.0->pomegranate) (12.4.127)\n",
            "Requirement already satisfied: nvidia-cuda-runtime-cu12==12.4.127 in /usr/local/lib/python3.11/dist-packages (from torch>=1.9.0->pomegranate) (12.4.127)\n",
            "Requirement already satisfied: nvidia-cuda-cupti-cu12==12.4.127 in /usr/local/lib/python3.11/dist-packages (from torch>=1.9.0->pomegranate) (12.4.127)\n",
            "Requirement already satisfied: nvidia-cudnn-cu12==9.1.0.70 in /usr/local/lib/python3.11/dist-packages (from torch>=1.9.0->pomegranate) (9.1.0.70)\n",
            "Requirement already satisfied: nvidia-cublas-cu12==12.4.5.8 in /usr/local/lib/python3.11/dist-packages (from torch>=1.9.0->pomegranate) (12.4.5.8)\n",
            "Requirement already satisfied: nvidia-cufft-cu12==11.2.1.3 in /usr/local/lib/python3.11/dist-packages (from torch>=1.9.0->pomegranate) (11.2.1.3)\n",
            "Requirement already satisfied: nvidia-curand-cu12==10.3.5.147 in /usr/local/lib/python3.11/dist-packages (from torch>=1.9.0->pomegranate) (10.3.5.147)\n",
            "Requirement already satisfied: nvidia-cusolver-cu12==11.6.1.9 in /usr/local/lib/python3.11/dist-packages (from torch>=1.9.0->pomegranate) (11.6.1.9)\n",
            "Requirement already satisfied: nvidia-cusparse-cu12==12.3.1.170 in /usr/local/lib/python3.11/dist-packages (from torch>=1.9.0->pomegranate) (12.3.1.170)\n",
            "Requirement already satisfied: nvidia-cusparselt-cu12==0.6.2 in /usr/local/lib/python3.11/dist-packages (from torch>=1.9.0->pomegranate) (0.6.2)\n",
            "Requirement already satisfied: nvidia-nccl-cu12==2.21.5 in /usr/local/lib/python3.11/dist-packages (from torch>=1.9.0->pomegranate) (2.21.5)\n",
            "Requirement already satisfied: nvidia-nvtx-cu12==12.4.127 in /usr/local/lib/python3.11/dist-packages (from torch>=1.9.0->pomegranate) (12.4.127)\n",
            "Requirement already satisfied: nvidia-nvjitlink-cu12==12.4.127 in /usr/local/lib/python3.11/dist-packages (from torch>=1.9.0->pomegranate) (12.4.127)\n",
            "Requirement already satisfied: triton==3.2.0 in /usr/local/lib/python3.11/dist-packages (from torch>=1.9.0->pomegranate) (3.2.0)\n",
            "Requirement already satisfied: sympy==1.13.1 in /usr/local/lib/python3.11/dist-packages (from torch>=1.9.0->pomegranate) (1.13.1)\n",
            "Requirement already satisfied: mpmath<1.4,>=1.1.0 in /usr/local/lib/python3.11/dist-packages (from sympy==1.13.1->torch>=1.9.0->pomegranate) (1.3.0)\n",
            "Requirement already satisfied: llvmlite<0.44,>=0.43.0dev0 in /usr/local/lib/python3.11/dist-packages (from numba>=0.43.0->apricot-select>=0.6.1->pomegranate) (0.43.0)\n",
            "Downloading pomegranate-1.1.2-py3-none-any.whl (98 kB)\n",
            "\u001b[2K   \u001b[90m━━━━━━━━━━━━━━━━━━━━━━━━━━━━━━━━━━━━━━━━\u001b[0m \u001b[32m98.4/98.4 kB\u001b[0m \u001b[31m4.2 MB/s\u001b[0m eta \u001b[36m0:00:00\u001b[0m\n",
            "\u001b[?25hDownloading nose-1.3.7-py3-none-any.whl (154 kB)\n",
            "\u001b[2K   \u001b[90m━━━━━━━━━━━━━━━━━━━━━━━━━━━━━━━━━━━━━━━━\u001b[0m \u001b[32m154.7/154.7 kB\u001b[0m \u001b[31m11.7 MB/s\u001b[0m eta \u001b[36m0:00:00\u001b[0m\n",
            "\u001b[?25hBuilding wheels for collected packages: apricot-select\n",
            "  Building wheel for apricot-select (setup.py) ... \u001b[?25l\u001b[?25hdone\n",
            "  Created wheel for apricot-select: filename=apricot_select-0.6.1-py3-none-any.whl size=48767 sha256=dcb35481e54d5e6b3721661a23511602167a01c36c73f9b87a63ea523d367f00\n",
            "  Stored in directory: /root/.cache/pip/wheels/ab/bc/fe/cd12c36ddfd92d986d2e8fd49b94286c2dbce74c20da1c2588\n",
            "Successfully built apricot-select\n",
            "Installing collected packages: nose, apricot-select, pomegranate\n",
            "Successfully installed apricot-select-0.6.1 nose-1.3.7 pomegranate-1.1.2\n"
          ]
        }
      ]
    },
    {
      "cell_type": "code",
      "source": [
        "!pip uninstall pomegranate -y\n",
        "!pip install --no-cache-dir pomegranate"
      ],
      "metadata": {
        "colab": {
          "base_uri": "https://localhost:8080/"
        },
        "id": "XebIGODoDjNt",
        "outputId": "998fcd61-9bd3-4c8c-ddfb-1871daf9cf6c"
      },
      "execution_count": null,
      "outputs": [
        {
          "output_type": "stream",
          "name": "stdout",
          "text": [
            "Found existing installation: pomegranate 1.1.2\n",
            "Uninstalling pomegranate-1.1.2:\n",
            "  Successfully uninstalled pomegranate-1.1.2\n",
            "Collecting pomegranate\n",
            "  Downloading pomegranate-1.1.2-py3-none-any.whl.metadata (566 bytes)\n",
            "Requirement already satisfied: numpy>=1.22.2 in /usr/local/lib/python3.11/dist-packages (from pomegranate) (1.26.4)\n",
            "Requirement already satisfied: scipy>=1.6.2 in /usr/local/lib/python3.11/dist-packages (from pomegranate) (1.14.1)\n",
            "Requirement already satisfied: scikit-learn>=1.0.2 in /usr/local/lib/python3.11/dist-packages (from pomegranate) (1.6.1)\n",
            "Requirement already satisfied: torch>=1.9.0 in /usr/local/lib/python3.11/dist-packages (from pomegranate) (2.5.1+cu124)\n",
            "Requirement already satisfied: apricot-select>=0.6.1 in /usr/local/lib/python3.11/dist-packages (from pomegranate) (0.6.1)\n",
            "Requirement already satisfied: networkx>=2.8.4 in /usr/local/lib/python3.11/dist-packages (from pomegranate) (3.4.2)\n",
            "Requirement already satisfied: numba>=0.43.0 in /usr/local/lib/python3.11/dist-packages (from apricot-select>=0.6.1->pomegranate) (0.60.0)\n",
            "Requirement already satisfied: tqdm>=4.24.0 in /usr/local/lib/python3.11/dist-packages (from apricot-select>=0.6.1->pomegranate) (4.67.1)\n",
            "Requirement already satisfied: nose in /usr/local/lib/python3.11/dist-packages (from apricot-select>=0.6.1->pomegranate) (1.3.7)\n",
            "Requirement already satisfied: joblib>=1.2.0 in /usr/local/lib/python3.11/dist-packages (from scikit-learn>=1.0.2->pomegranate) (1.4.2)\n",
            "Requirement already satisfied: threadpoolctl>=3.1.0 in /usr/local/lib/python3.11/dist-packages (from scikit-learn>=1.0.2->pomegranate) (3.5.0)\n",
            "Requirement already satisfied: filelock in /usr/local/lib/python3.11/dist-packages (from torch>=1.9.0->pomegranate) (3.17.0)\n",
            "Requirement already satisfied: typing-extensions>=4.8.0 in /usr/local/lib/python3.11/dist-packages (from torch>=1.9.0->pomegranate) (4.12.2)\n",
            "Requirement already satisfied: jinja2 in /usr/local/lib/python3.11/dist-packages (from torch>=1.9.0->pomegranate) (3.1.6)\n",
            "Requirement already satisfied: fsspec in /usr/local/lib/python3.11/dist-packages (from torch>=1.9.0->pomegranate) (2024.10.0)\n",
            "Requirement already satisfied: nvidia-cuda-nvrtc-cu12==12.4.127 in /usr/local/lib/python3.11/dist-packages (from torch>=1.9.0->pomegranate) (12.4.127)\n",
            "Requirement already satisfied: nvidia-cuda-runtime-cu12==12.4.127 in /usr/local/lib/python3.11/dist-packages (from torch>=1.9.0->pomegranate) (12.4.127)\n",
            "Requirement already satisfied: nvidia-cuda-cupti-cu12==12.4.127 in /usr/local/lib/python3.11/dist-packages (from torch>=1.9.0->pomegranate) (12.4.127)\n",
            "Requirement already satisfied: nvidia-cudnn-cu12==9.1.0.70 in /usr/local/lib/python3.11/dist-packages (from torch>=1.9.0->pomegranate) (9.1.0.70)\n",
            "Requirement already satisfied: nvidia-cublas-cu12==12.4.5.8 in /usr/local/lib/python3.11/dist-packages (from torch>=1.9.0->pomegranate) (12.4.5.8)\n",
            "Requirement already satisfied: nvidia-cufft-cu12==11.2.1.3 in /usr/local/lib/python3.11/dist-packages (from torch>=1.9.0->pomegranate) (11.2.1.3)\n",
            "Requirement already satisfied: nvidia-curand-cu12==10.3.5.147 in /usr/local/lib/python3.11/dist-packages (from torch>=1.9.0->pomegranate) (10.3.5.147)\n",
            "Requirement already satisfied: nvidia-cusolver-cu12==11.6.1.9 in /usr/local/lib/python3.11/dist-packages (from torch>=1.9.0->pomegranate) (11.6.1.9)\n",
            "Requirement already satisfied: nvidia-cusparse-cu12==12.3.1.170 in /usr/local/lib/python3.11/dist-packages (from torch>=1.9.0->pomegranate) (12.3.1.170)\n",
            "Requirement already satisfied: nvidia-nccl-cu12==2.21.5 in /usr/local/lib/python3.11/dist-packages (from torch>=1.9.0->pomegranate) (2.21.5)\n",
            "Requirement already satisfied: nvidia-nvtx-cu12==12.4.127 in /usr/local/lib/python3.11/dist-packages (from torch>=1.9.0->pomegranate) (12.4.127)\n",
            "Requirement already satisfied: nvidia-nvjitlink-cu12==12.4.127 in /usr/local/lib/python3.11/dist-packages (from torch>=1.9.0->pomegranate) (12.4.127)\n",
            "Requirement already satisfied: triton==3.1.0 in /usr/local/lib/python3.11/dist-packages (from torch>=1.9.0->pomegranate) (3.1.0)\n",
            "Requirement already satisfied: sympy==1.13.1 in /usr/local/lib/python3.11/dist-packages (from torch>=1.9.0->pomegranate) (1.13.1)\n",
            "Requirement already satisfied: mpmath<1.4,>=1.1.0 in /usr/local/lib/python3.11/dist-packages (from sympy==1.13.1->torch>=1.9.0->pomegranate) (1.3.0)\n",
            "Requirement already satisfied: llvmlite<0.44,>=0.43.0dev0 in /usr/local/lib/python3.11/dist-packages (from numba>=0.43.0->apricot-select>=0.6.1->pomegranate) (0.43.0)\n",
            "Requirement already satisfied: MarkupSafe>=2.0 in /usr/local/lib/python3.11/dist-packages (from jinja2->torch>=1.9.0->pomegranate) (3.0.2)\n",
            "Downloading pomegranate-1.1.2-py3-none-any.whl (98 kB)\n",
            "\u001b[2K   \u001b[90m━━━━━━━━━━━━━━━━━━━━━━━━━━━━━━━━━━━━━━━━\u001b[0m \u001b[32m98.4/98.4 kB\u001b[0m \u001b[31m6.7 MB/s\u001b[0m eta \u001b[36m0:00:00\u001b[0m\n",
            "\u001b[?25hInstalling collected packages: pomegranate\n",
            "Successfully installed pomegranate-1.1.2\n"
          ]
        }
      ]
    },
    {
      "cell_type": "code",
      "source": [
        "pip show pomegranate\n"
      ],
      "metadata": {
        "colab": {
          "base_uri": "https://localhost:8080/"
        },
        "id": "FUMApbVSD94n",
        "outputId": "9a81e4f1-ea0c-4d0e-9d9a-ad41237b313d"
      },
      "execution_count": null,
      "outputs": [
        {
          "output_type": "stream",
          "name": "stdout",
          "text": [
            "Name: pomegranate\n",
            "Version: 1.1.2\n",
            "Summary: A PyTorch implementation of probabilistic models.\n",
            "Home-page: https://github.com/jmschrei/torchegranate\n",
            "Author: Jacob Schreiber\n",
            "Author-email: jmschreiber91@gmail.com\n",
            "License: MIT\n",
            "Location: /usr/local/lib/python3.11/dist-packages\n",
            "Requires: apricot-select, networkx, numpy, scikit-learn, scipy, torch\n",
            "Required-by: \n"
          ]
        }
      ]
    },
    {
      "cell_type": "code",
      "source": [
        "pip install --upgrade pomegranate\n"
      ],
      "metadata": {
        "colab": {
          "base_uri": "https://localhost:8080/"
        },
        "id": "EuRk7xZnENxi",
        "outputId": "be7977d6-f48e-49d0-8ebc-39e1ab3e2832"
      },
      "execution_count": null,
      "outputs": [
        {
          "output_type": "stream",
          "name": "stdout",
          "text": [
            "Requirement already satisfied: pomegranate in /usr/local/lib/python3.11/dist-packages (1.1.2)\n",
            "Requirement already satisfied: numpy>=1.22.2 in /usr/local/lib/python3.11/dist-packages (from pomegranate) (2.0.2)\n",
            "Requirement already satisfied: scipy>=1.6.2 in /usr/local/lib/python3.11/dist-packages (from pomegranate) (1.14.1)\n",
            "Requirement already satisfied: scikit-learn>=1.0.2 in /usr/local/lib/python3.11/dist-packages (from pomegranate) (1.6.1)\n",
            "Requirement already satisfied: torch>=1.9.0 in /usr/local/lib/python3.11/dist-packages (from pomegranate) (2.6.0+cu124)\n",
            "Requirement already satisfied: apricot-select>=0.6.1 in /usr/local/lib/python3.11/dist-packages (from pomegranate) (0.6.1)\n",
            "Requirement already satisfied: networkx>=2.8.4 in /usr/local/lib/python3.11/dist-packages (from pomegranate) (3.4.2)\n",
            "Requirement already satisfied: numba>=0.43.0 in /usr/local/lib/python3.11/dist-packages (from apricot-select>=0.6.1->pomegranate) (0.60.0)\n",
            "Requirement already satisfied: tqdm>=4.24.0 in /usr/local/lib/python3.11/dist-packages (from apricot-select>=0.6.1->pomegranate) (4.67.1)\n",
            "Requirement already satisfied: nose in /usr/local/lib/python3.11/dist-packages (from apricot-select>=0.6.1->pomegranate) (1.3.7)\n",
            "Requirement already satisfied: joblib>=1.2.0 in /usr/local/lib/python3.11/dist-packages (from scikit-learn>=1.0.2->pomegranate) (1.4.2)\n",
            "Requirement already satisfied: threadpoolctl>=3.1.0 in /usr/local/lib/python3.11/dist-packages (from scikit-learn>=1.0.2->pomegranate) (3.6.0)\n",
            "Requirement already satisfied: filelock in /usr/local/lib/python3.11/dist-packages (from torch>=1.9.0->pomegranate) (3.18.0)\n",
            "Requirement already satisfied: typing-extensions>=4.10.0 in /usr/local/lib/python3.11/dist-packages (from torch>=1.9.0->pomegranate) (4.13.0)\n",
            "Requirement already satisfied: jinja2 in /usr/local/lib/python3.11/dist-packages (from torch>=1.9.0->pomegranate) (3.1.6)\n",
            "Requirement already satisfied: fsspec in /usr/local/lib/python3.11/dist-packages (from torch>=1.9.0->pomegranate) (2025.3.2)\n",
            "Requirement already satisfied: nvidia-cuda-nvrtc-cu12==12.4.127 in /usr/local/lib/python3.11/dist-packages (from torch>=1.9.0->pomegranate) (12.4.127)\n",
            "Requirement already satisfied: nvidia-cuda-runtime-cu12==12.4.127 in /usr/local/lib/python3.11/dist-packages (from torch>=1.9.0->pomegranate) (12.4.127)\n",
            "Requirement already satisfied: nvidia-cuda-cupti-cu12==12.4.127 in /usr/local/lib/python3.11/dist-packages (from torch>=1.9.0->pomegranate) (12.4.127)\n",
            "Requirement already satisfied: nvidia-cudnn-cu12==9.1.0.70 in /usr/local/lib/python3.11/dist-packages (from torch>=1.9.0->pomegranate) (9.1.0.70)\n",
            "Requirement already satisfied: nvidia-cublas-cu12==12.4.5.8 in /usr/local/lib/python3.11/dist-packages (from torch>=1.9.0->pomegranate) (12.4.5.8)\n",
            "Requirement already satisfied: nvidia-cufft-cu12==11.2.1.3 in /usr/local/lib/python3.11/dist-packages (from torch>=1.9.0->pomegranate) (11.2.1.3)\n",
            "Requirement already satisfied: nvidia-curand-cu12==10.3.5.147 in /usr/local/lib/python3.11/dist-packages (from torch>=1.9.0->pomegranate) (10.3.5.147)\n",
            "Requirement already satisfied: nvidia-cusolver-cu12==11.6.1.9 in /usr/local/lib/python3.11/dist-packages (from torch>=1.9.0->pomegranate) (11.6.1.9)\n",
            "Requirement already satisfied: nvidia-cusparse-cu12==12.3.1.170 in /usr/local/lib/python3.11/dist-packages (from torch>=1.9.0->pomegranate) (12.3.1.170)\n",
            "Requirement already satisfied: nvidia-cusparselt-cu12==0.6.2 in /usr/local/lib/python3.11/dist-packages (from torch>=1.9.0->pomegranate) (0.6.2)\n",
            "Requirement already satisfied: nvidia-nccl-cu12==2.21.5 in /usr/local/lib/python3.11/dist-packages (from torch>=1.9.0->pomegranate) (2.21.5)\n",
            "Requirement already satisfied: nvidia-nvtx-cu12==12.4.127 in /usr/local/lib/python3.11/dist-packages (from torch>=1.9.0->pomegranate) (12.4.127)\n",
            "Requirement already satisfied: nvidia-nvjitlink-cu12==12.4.127 in /usr/local/lib/python3.11/dist-packages (from torch>=1.9.0->pomegranate) (12.4.127)\n",
            "Requirement already satisfied: triton==3.2.0 in /usr/local/lib/python3.11/dist-packages (from torch>=1.9.0->pomegranate) (3.2.0)\n",
            "Requirement already satisfied: sympy==1.13.1 in /usr/local/lib/python3.11/dist-packages (from torch>=1.9.0->pomegranate) (1.13.1)\n",
            "Requirement already satisfied: mpmath<1.4,>=1.1.0 in /usr/local/lib/python3.11/dist-packages (from sympy==1.13.1->torch>=1.9.0->pomegranate) (1.3.0)\n",
            "Requirement already satisfied: llvmlite<0.44,>=0.43.0dev0 in /usr/local/lib/python3.11/dist-packages (from numba>=0.43.0->apricot-select>=0.6.1->pomegranate) (0.43.0)\n",
            "Requirement already satisfied: MarkupSafe>=2.0 in /usr/local/lib/python3.11/dist-packages (from jinja2->torch>=1.9.0->pomegranate) (3.0.2)\n"
          ]
        }
      ]
    },
    {
      "cell_type": "code",
      "source": [
        "pip install pgmpy\n"
      ],
      "metadata": {
        "colab": {
          "base_uri": "https://localhost:8080/"
        },
        "id": "gWllXQ9tEVyX",
        "outputId": "66961f6c-4cec-4e8d-d108-b2d5c3c5f708"
      },
      "execution_count": null,
      "outputs": [
        {
          "output_type": "stream",
          "name": "stdout",
          "text": [
            "Collecting pgmpy\n",
            "  Downloading pgmpy-1.0.0-py3-none-any.whl.metadata (9.4 kB)\n",
            "Requirement already satisfied: networkx in /usr/local/lib/python3.11/dist-packages (from pgmpy) (3.4.2)\n",
            "Requirement already satisfied: numpy in /usr/local/lib/python3.11/dist-packages (from pgmpy) (2.0.2)\n",
            "Requirement already satisfied: scipy in /usr/local/lib/python3.11/dist-packages (from pgmpy) (1.14.1)\n",
            "Requirement already satisfied: scikit-learn in /usr/local/lib/python3.11/dist-packages (from pgmpy) (1.6.1)\n",
            "Requirement already satisfied: pandas in /usr/local/lib/python3.11/dist-packages (from pgmpy) (2.2.2)\n",
            "Requirement already satisfied: torch in /usr/local/lib/python3.11/dist-packages (from pgmpy) (2.6.0+cu124)\n",
            "Requirement already satisfied: statsmodels in /usr/local/lib/python3.11/dist-packages (from pgmpy) (0.14.4)\n",
            "Requirement already satisfied: tqdm in /usr/local/lib/python3.11/dist-packages (from pgmpy) (4.67.1)\n",
            "Requirement already satisfied: joblib in /usr/local/lib/python3.11/dist-packages (from pgmpy) (1.4.2)\n",
            "Requirement already satisfied: opt-einsum in /usr/local/lib/python3.11/dist-packages (from pgmpy) (3.4.0)\n",
            "Collecting pyro-ppl (from pgmpy)\n",
            "  Downloading pyro_ppl-1.9.1-py3-none-any.whl.metadata (7.8 kB)\n",
            "Requirement already satisfied: python-dateutil>=2.8.2 in /usr/local/lib/python3.11/dist-packages (from pandas->pgmpy) (2.8.2)\n",
            "Requirement already satisfied: pytz>=2020.1 in /usr/local/lib/python3.11/dist-packages (from pandas->pgmpy) (2025.2)\n",
            "Requirement already satisfied: tzdata>=2022.7 in /usr/local/lib/python3.11/dist-packages (from pandas->pgmpy) (2025.2)\n",
            "Collecting pyro-api>=0.1.1 (from pyro-ppl->pgmpy)\n",
            "  Downloading pyro_api-0.1.2-py3-none-any.whl.metadata (2.5 kB)\n",
            "Requirement already satisfied: filelock in /usr/local/lib/python3.11/dist-packages (from torch->pgmpy) (3.18.0)\n",
            "Requirement already satisfied: typing-extensions>=4.10.0 in /usr/local/lib/python3.11/dist-packages (from torch->pgmpy) (4.13.0)\n",
            "Requirement already satisfied: jinja2 in /usr/local/lib/python3.11/dist-packages (from torch->pgmpy) (3.1.6)\n",
            "Requirement already satisfied: fsspec in /usr/local/lib/python3.11/dist-packages (from torch->pgmpy) (2025.3.2)\n",
            "Collecting nvidia-cuda-nvrtc-cu12==12.4.127 (from torch->pgmpy)\n",
            "  Downloading nvidia_cuda_nvrtc_cu12-12.4.127-py3-none-manylinux2014_x86_64.whl.metadata (1.5 kB)\n",
            "Collecting nvidia-cuda-runtime-cu12==12.4.127 (from torch->pgmpy)\n",
            "  Downloading nvidia_cuda_runtime_cu12-12.4.127-py3-none-manylinux2014_x86_64.whl.metadata (1.5 kB)\n",
            "Collecting nvidia-cuda-cupti-cu12==12.4.127 (from torch->pgmpy)\n",
            "  Downloading nvidia_cuda_cupti_cu12-12.4.127-py3-none-manylinux2014_x86_64.whl.metadata (1.6 kB)\n",
            "Collecting nvidia-cudnn-cu12==9.1.0.70 (from torch->pgmpy)\n",
            "  Downloading nvidia_cudnn_cu12-9.1.0.70-py3-none-manylinux2014_x86_64.whl.metadata (1.6 kB)\n",
            "Collecting nvidia-cublas-cu12==12.4.5.8 (from torch->pgmpy)\n",
            "  Downloading nvidia_cublas_cu12-12.4.5.8-py3-none-manylinux2014_x86_64.whl.metadata (1.5 kB)\n",
            "Collecting nvidia-cufft-cu12==11.2.1.3 (from torch->pgmpy)\n",
            "  Downloading nvidia_cufft_cu12-11.2.1.3-py3-none-manylinux2014_x86_64.whl.metadata (1.5 kB)\n",
            "Collecting nvidia-curand-cu12==10.3.5.147 (from torch->pgmpy)\n",
            "  Downloading nvidia_curand_cu12-10.3.5.147-py3-none-manylinux2014_x86_64.whl.metadata (1.5 kB)\n",
            "Collecting nvidia-cusolver-cu12==11.6.1.9 (from torch->pgmpy)\n",
            "  Downloading nvidia_cusolver_cu12-11.6.1.9-py3-none-manylinux2014_x86_64.whl.metadata (1.6 kB)\n",
            "Collecting nvidia-cusparse-cu12==12.3.1.170 (from torch->pgmpy)\n",
            "  Downloading nvidia_cusparse_cu12-12.3.1.170-py3-none-manylinux2014_x86_64.whl.metadata (1.6 kB)\n",
            "Requirement already satisfied: nvidia-cusparselt-cu12==0.6.2 in /usr/local/lib/python3.11/dist-packages (from torch->pgmpy) (0.6.2)\n",
            "Requirement already satisfied: nvidia-nccl-cu12==2.21.5 in /usr/local/lib/python3.11/dist-packages (from torch->pgmpy) (2.21.5)\n",
            "Requirement already satisfied: nvidia-nvtx-cu12==12.4.127 in /usr/local/lib/python3.11/dist-packages (from torch->pgmpy) (12.4.127)\n",
            "Collecting nvidia-nvjitlink-cu12==12.4.127 (from torch->pgmpy)\n",
            "  Downloading nvidia_nvjitlink_cu12-12.4.127-py3-none-manylinux2014_x86_64.whl.metadata (1.5 kB)\n",
            "Requirement already satisfied: triton==3.2.0 in /usr/local/lib/python3.11/dist-packages (from torch->pgmpy) (3.2.0)\n",
            "Requirement already satisfied: sympy==1.13.1 in /usr/local/lib/python3.11/dist-packages (from torch->pgmpy) (1.13.1)\n",
            "Requirement already satisfied: mpmath<1.4,>=1.1.0 in /usr/local/lib/python3.11/dist-packages (from sympy==1.13.1->torch->pgmpy) (1.3.0)\n",
            "Requirement already satisfied: threadpoolctl>=3.1.0 in /usr/local/lib/python3.11/dist-packages (from scikit-learn->pgmpy) (3.6.0)\n",
            "Requirement already satisfied: patsy>=0.5.6 in /usr/local/lib/python3.11/dist-packages (from statsmodels->pgmpy) (1.0.1)\n",
            "Requirement already satisfied: packaging>=21.3 in /usr/local/lib/python3.11/dist-packages (from statsmodels->pgmpy) (24.2)\n",
            "Requirement already satisfied: six>=1.5 in /usr/local/lib/python3.11/dist-packages (from python-dateutil>=2.8.2->pandas->pgmpy) (1.17.0)\n",
            "Requirement already satisfied: MarkupSafe>=2.0 in /usr/local/lib/python3.11/dist-packages (from jinja2->torch->pgmpy) (3.0.2)\n",
            "Downloading pgmpy-1.0.0-py3-none-any.whl (2.0 MB)\n",
            "\u001b[2K   \u001b[90m━━━━━━━━━━━━━━━━━━━━━━━━━━━━━━━━━━━━━━━━\u001b[0m \u001b[32m2.0/2.0 MB\u001b[0m \u001b[31m26.9 MB/s\u001b[0m eta \u001b[36m0:00:00\u001b[0m\n",
            "\u001b[?25hDownloading pyro_ppl-1.9.1-py3-none-any.whl (755 kB)\n",
            "\u001b[2K   \u001b[90m━━━━━━━━━━━━━━━━━━━━━━━━━━━━━━━━━━━━━━━━\u001b[0m \u001b[32m756.0/756.0 kB\u001b[0m \u001b[31m41.2 MB/s\u001b[0m eta \u001b[36m0:00:00\u001b[0m\n",
            "\u001b[?25hDownloading nvidia_cublas_cu12-12.4.5.8-py3-none-manylinux2014_x86_64.whl (363.4 MB)\n",
            "\u001b[2K   \u001b[90m━━━━━━━━━━━━━━━━━━━━━━━━━━━━━━━━━━━━━━━━\u001b[0m \u001b[32m363.4/363.4 MB\u001b[0m \u001b[31m4.6 MB/s\u001b[0m eta \u001b[36m0:00:00\u001b[0m\n",
            "\u001b[?25hDownloading nvidia_cuda_cupti_cu12-12.4.127-py3-none-manylinux2014_x86_64.whl (13.8 MB)\n",
            "\u001b[2K   \u001b[90m━━━━━━━━━━━━━━━━━━━━━━━━━━━━━━━━━━━━━━━━\u001b[0m \u001b[32m13.8/13.8 MB\u001b[0m \u001b[31m99.2 MB/s\u001b[0m eta \u001b[36m0:00:00\u001b[0m\n",
            "\u001b[?25hDownloading nvidia_cuda_nvrtc_cu12-12.4.127-py3-none-manylinux2014_x86_64.whl (24.6 MB)\n",
            "\u001b[2K   \u001b[90m━━━━━━━━━━━━━━━━━━━━━━━━━━━━━━━━━━━━━━━━\u001b[0m \u001b[32m24.6/24.6 MB\u001b[0m \u001b[31m70.6 MB/s\u001b[0m eta \u001b[36m0:00:00\u001b[0m\n",
            "\u001b[?25hDownloading nvidia_cuda_runtime_cu12-12.4.127-py3-none-manylinux2014_x86_64.whl (883 kB)\n",
            "\u001b[2K   \u001b[90m━━━━━━━━━━━━━━━━━━━━━━━━━━━━━━━━━━━━━━━━\u001b[0m \u001b[32m883.7/883.7 kB\u001b[0m \u001b[31m49.5 MB/s\u001b[0m eta \u001b[36m0:00:00\u001b[0m\n",
            "\u001b[?25hDownloading nvidia_cudnn_cu12-9.1.0.70-py3-none-manylinux2014_x86_64.whl (664.8 MB)\n",
            "\u001b[2K   \u001b[90m━━━━━━━━━━━━━━━━━━━━━━━━━━━━━━━━━━━━━━━━\u001b[0m \u001b[32m664.8/664.8 MB\u001b[0m \u001b[31m3.1 MB/s\u001b[0m eta \u001b[36m0:00:00\u001b[0m\n",
            "\u001b[?25hDownloading nvidia_cufft_cu12-11.2.1.3-py3-none-manylinux2014_x86_64.whl (211.5 MB)\n",
            "\u001b[2K   \u001b[90m━━━━━━━━━━━━━━━━━━━━━━━━━━━━━━━━━━━━━━━━\u001b[0m \u001b[32m211.5/211.5 MB\u001b[0m \u001b[31m5.8 MB/s\u001b[0m eta \u001b[36m0:00:00\u001b[0m\n",
            "\u001b[?25hDownloading nvidia_curand_cu12-10.3.5.147-py3-none-manylinux2014_x86_64.whl (56.3 MB)\n",
            "\u001b[2K   \u001b[90m━━━━━━━━━━━━━━━━━━━━━━━━━━━━━━━━━━━━━━━━\u001b[0m \u001b[32m56.3/56.3 MB\u001b[0m \u001b[31m12.8 MB/s\u001b[0m eta \u001b[36m0:00:00\u001b[0m\n",
            "\u001b[?25hDownloading nvidia_cusolver_cu12-11.6.1.9-py3-none-manylinux2014_x86_64.whl (127.9 MB)\n",
            "\u001b[2K   \u001b[90m━━━━━━━━━━━━━━━━━━━━━━━━━━━━━━━━━━━━━━━━\u001b[0m \u001b[32m127.9/127.9 MB\u001b[0m \u001b[31m6.6 MB/s\u001b[0m eta \u001b[36m0:00:00\u001b[0m\n",
            "\u001b[?25hDownloading nvidia_cusparse_cu12-12.3.1.170-py3-none-manylinux2014_x86_64.whl (207.5 MB)\n",
            "\u001b[2K   \u001b[90m━━━━━━━━━━━━━━━━━━━━━━━━━━━━━━━━━━━━━━━━\u001b[0m \u001b[32m207.5/207.5 MB\u001b[0m \u001b[31m5.1 MB/s\u001b[0m eta \u001b[36m0:00:00\u001b[0m\n",
            "\u001b[?25hDownloading nvidia_nvjitlink_cu12-12.4.127-py3-none-manylinux2014_x86_64.whl (21.1 MB)\n",
            "\u001b[2K   \u001b[90m━━━━━━━━━━━━━━━━━━━━━━━━━━━━━━━━━━━━━━━━\u001b[0m \u001b[32m21.1/21.1 MB\u001b[0m \u001b[31m51.6 MB/s\u001b[0m eta \u001b[36m0:00:00\u001b[0m\n",
            "\u001b[?25hDownloading pyro_api-0.1.2-py3-none-any.whl (11 kB)\n",
            "Installing collected packages: pyro-api, nvidia-nvjitlink-cu12, nvidia-curand-cu12, nvidia-cufft-cu12, nvidia-cuda-runtime-cu12, nvidia-cuda-nvrtc-cu12, nvidia-cuda-cupti-cu12, nvidia-cublas-cu12, nvidia-cusparse-cu12, nvidia-cudnn-cu12, nvidia-cusolver-cu12, pyro-ppl, pgmpy\n",
            "  Attempting uninstall: nvidia-nvjitlink-cu12\n",
            "    Found existing installation: nvidia-nvjitlink-cu12 12.5.82\n",
            "    Uninstalling nvidia-nvjitlink-cu12-12.5.82:\n",
            "      Successfully uninstalled nvidia-nvjitlink-cu12-12.5.82\n",
            "  Attempting uninstall: nvidia-curand-cu12\n",
            "    Found existing installation: nvidia-curand-cu12 10.3.6.82\n",
            "    Uninstalling nvidia-curand-cu12-10.3.6.82:\n",
            "      Successfully uninstalled nvidia-curand-cu12-10.3.6.82\n",
            "  Attempting uninstall: nvidia-cufft-cu12\n",
            "    Found existing installation: nvidia-cufft-cu12 11.2.3.61\n",
            "    Uninstalling nvidia-cufft-cu12-11.2.3.61:\n",
            "      Successfully uninstalled nvidia-cufft-cu12-11.2.3.61\n",
            "  Attempting uninstall: nvidia-cuda-runtime-cu12\n",
            "    Found existing installation: nvidia-cuda-runtime-cu12 12.5.82\n",
            "    Uninstalling nvidia-cuda-runtime-cu12-12.5.82:\n",
            "      Successfully uninstalled nvidia-cuda-runtime-cu12-12.5.82\n",
            "  Attempting uninstall: nvidia-cuda-nvrtc-cu12\n",
            "    Found existing installation: nvidia-cuda-nvrtc-cu12 12.5.82\n",
            "    Uninstalling nvidia-cuda-nvrtc-cu12-12.5.82:\n",
            "      Successfully uninstalled nvidia-cuda-nvrtc-cu12-12.5.82\n",
            "  Attempting uninstall: nvidia-cuda-cupti-cu12\n",
            "    Found existing installation: nvidia-cuda-cupti-cu12 12.5.82\n",
            "    Uninstalling nvidia-cuda-cupti-cu12-12.5.82:\n",
            "      Successfully uninstalled nvidia-cuda-cupti-cu12-12.5.82\n",
            "  Attempting uninstall: nvidia-cublas-cu12\n",
            "    Found existing installation: nvidia-cublas-cu12 12.5.3.2\n",
            "    Uninstalling nvidia-cublas-cu12-12.5.3.2:\n",
            "      Successfully uninstalled nvidia-cublas-cu12-12.5.3.2\n",
            "  Attempting uninstall: nvidia-cusparse-cu12\n",
            "    Found existing installation: nvidia-cusparse-cu12 12.5.1.3\n",
            "    Uninstalling nvidia-cusparse-cu12-12.5.1.3:\n",
            "      Successfully uninstalled nvidia-cusparse-cu12-12.5.1.3\n",
            "  Attempting uninstall: nvidia-cudnn-cu12\n",
            "    Found existing installation: nvidia-cudnn-cu12 9.3.0.75\n",
            "    Uninstalling nvidia-cudnn-cu12-9.3.0.75:\n",
            "      Successfully uninstalled nvidia-cudnn-cu12-9.3.0.75\n",
            "  Attempting uninstall: nvidia-cusolver-cu12\n",
            "    Found existing installation: nvidia-cusolver-cu12 11.6.3.83\n",
            "    Uninstalling nvidia-cusolver-cu12-11.6.3.83:\n",
            "      Successfully uninstalled nvidia-cusolver-cu12-11.6.3.83\n",
            "Successfully installed nvidia-cublas-cu12-12.4.5.8 nvidia-cuda-cupti-cu12-12.4.127 nvidia-cuda-nvrtc-cu12-12.4.127 nvidia-cuda-runtime-cu12-12.4.127 nvidia-cudnn-cu12-9.1.0.70 nvidia-cufft-cu12-11.2.1.3 nvidia-curand-cu12-10.3.5.147 nvidia-cusolver-cu12-11.6.1.9 nvidia-cusparse-cu12-12.3.1.170 nvidia-nvjitlink-cu12-12.4.127 pgmpy-1.0.0 pyro-api-0.1.2 pyro-ppl-1.9.1\n"
          ]
        }
      ]
    },
    {
      "cell_type": "code",
      "source": [
        "import pandas as pd\n",
        "\n",
        "# Create sample data\n",
        "data = {\n",
        "    \"timestamp\": [\"2025-03-12 12:00:00\", \"2025-03-12 12:05:00\"],\n",
        "    \"location\": [\"Chennai Signal 1\", \"Chennai Signal 2\"],\n",
        "    \"congestion_level\": [3, 5]\n",
        "}\n",
        "\n",
        "df = pd.DataFrame(data)\n",
        "df.to_csv(\"real_time_traffic.csv\", index=False)\n",
        "\n",
        "print(\"Dummy traffic data saved as real_time_traffic.csv\")\n"
      ],
      "metadata": {
        "colab": {
          "base_uri": "https://localhost:8080/"
        },
        "id": "kteyekc4FL8d",
        "outputId": "b7e2b3e1-a8cb-4d41-f074-03a56d0b59b4"
      },
      "execution_count": null,
      "outputs": [
        {
          "output_type": "stream",
          "name": "stdout",
          "text": [
            "Dummy traffic data saved as real_time_traffic.csv\n"
          ]
        }
      ]
    },
    {
      "cell_type": "code",
      "source": [
        "import requests\n",
        "import pandas as pd\n",
        "import numpy as np\n",
        "import osmnx as ox\n",
        "import folium\n",
        "from pgmpy.models import BayesianNetwork  # Updated class name\n",
        "from pgmpy.estimators import MaximumLikelihoodEstimator\n",
        "\n",
        "# ==============================\n",
        "# 1. Fetch Traffic Signal Data\n",
        "# ==============================\n",
        "def fetch_traffic_signals(place_name):\n",
        "    \"\"\"\n",
        "    Fetch traffic signals from OpenStreetMap for the given place.\n",
        "    \"\"\"\n",
        "    try:\n",
        "        traffic_signals = ox.features_from_place(place_name, tags={'highway': 'traffic_signals'})\n",
        "\n",
        "        # Convert to lat/lon\n",
        "        traffic_signals = traffic_signals.to_crs(epsg=4326)\n",
        "        traffic_signals['latitude'] = traffic_signals.geometry.y\n",
        "        traffic_signals['longitude'] = traffic_signals.geometry.x\n",
        "\n",
        "        # Save to CSV\n",
        "        traffic_signals[['latitude', 'longitude']].to_csv(\"traffic_signals_chennai.csv\", index=False)\n",
        "        print(\"✅ Traffic signals data saved to traffic_signals_chennai.csv\")\n",
        "        return traffic_signals\n",
        "    except Exception as e:\n",
        "        print(f\"❌ Error fetching traffic signals: {e}\")\n",
        "        return None\n",
        "\n",
        "# ==============================\n",
        "# 2. Fetch Real-time Traffic Data\n",
        "# ==============================\n",
        "def fetch_real_time_traffic(api_key, location):\n",
        "    \"\"\"\n",
        "    Fetch real-time traffic data using TomTom API.\n",
        "    If API fails, generate simulated data.\n",
        "    \"\"\"\n",
        "    url = f\"https://api.tomtom.com/traffic/services/4/flowSegmentData/relative0/10/json?key={api_key}&point={location[0]},{location[1]}\"\n",
        "\n",
        "    try:\n",
        "        response = requests.get(url)\n",
        "        if response.status_code == 200:\n",
        "            data = response.json()\n",
        "\n",
        "            # Validate response\n",
        "            if 'flowSegmentData' in data:\n",
        "                congestion_level = data['flowSegmentData']['currentSpeed']\n",
        "            else:\n",
        "                congestion_level = np.random.randint(1, 5, 10)  # Default random values\n",
        "\n",
        "            traffic_data = pd.DataFrame({\n",
        "                \"latitude\": [location[0] + np.random.uniform(-0.01, 0.01) for _ in range(10)],\n",
        "                \"longitude\": [location[1] + np.random.uniform(-0.01, 0.01) for _ in range(10)],\n",
        "                \"congestion_level\": congestion_level\n",
        "            })\n",
        "        else:\n",
        "            print(\" API request failed! Using simulated data.\")\n",
        "            traffic_data = pd.DataFrame({\n",
        "                \"latitude\": [location[0] + np.random.uniform(-0.01, 0.01) for _ in range(10)],\n",
        "                \"longitude\": [location[1] + np.random.uniform(-0.01, 0.01) for _ in range(10)],\n",
        "                \"congestion_level\": np.random.randint(1, 5, 10)\n",
        "            })\n",
        "\n",
        "        traffic_data.to_csv(\"real_time_traffic.csv\", index=False)\n",
        "        print(\" Real-time traffic data saved to real_time_traffic.csv\")\n",
        "        return traffic_data\n",
        "    except Exception as e:\n",
        "        print(f\" Error fetching real-time traffic data: {e}\")\n",
        "        return None\n",
        "\n",
        "# ==============================\n",
        "# 3. Visualize Traffic Signals\n",
        "# ==============================\n",
        "def visualize_traffic_signals():\n",
        "    \"\"\"\n",
        "    Create an interactive Folium map showing traffic signals.\n",
        "    \"\"\"\n",
        "    try:\n",
        "        traffic_df = pd.read_csv(\"traffic_signals_chennai.csv\")\n",
        "        if traffic_df.empty:\n",
        "            print(\" No traffic signals found.\")\n",
        "            return None\n",
        "\n",
        "        chennai_location = [13.0827, 80.2707]\n",
        "        m = folium.Map(location=chennai_location, zoom_start=12)\n",
        "\n",
        "        # Add markers\n",
        "        for _, row in traffic_df.iterrows():\n",
        "            folium.Marker(\n",
        "                location=[row[\"latitude\"], row[\"longitude\"]],\n",
        "                popup=\"Traffic Signal\",\n",
        "                icon=folium.Icon(color=\"red\", icon=\"lightbulb\", prefix=\"fa\"),\n",
        "            ).add_to(m)\n",
        "\n",
        "        m.save(\"traffic_signals_map.html\")\n",
        "        print(\" Traffic signals map saved as traffic_signals_map.html\")\n",
        "        return m\n",
        "    except FileNotFoundError:\n",
        "        print(\" Error: traffic_signals_chennai.csv not found.\")\n",
        "        return None\n",
        "\n",
        "# ==============================\n",
        "# 4. Train Bayesian Network Model\n",
        "# ==============================\n",
        "def train_bayesian_network():\n",
        "    \"\"\"\n",
        "    Train a Bayesian Network to predict traffic congestion based on signals.\n",
        "    \"\"\"\n",
        "    try:\n",
        "        traffic_df = pd.read_csv(\"real_time_traffic.csv\")\n",
        "\n",
        "        # Check for missing data\n",
        "        if traffic_df.empty or \"latitude\" not in traffic_df.columns:\n",
        "            print(\"❌ Error: real_time_traffic.csv is empty or missing columns.\")\n",
        "            return None\n",
        "\n",
        "        # Discretize congestion levels into categories\n",
        "        traffic_df[\"congestion_category\"] = pd.cut(\n",
        "            traffic_df[\"congestion_level\"], bins=[0, 2, 3, 5], labels=[\"Low\", \"Medium\", \"High\"]\n",
        "        )\n",
        "\n",
        "        # Define Bayesian Network structure\n",
        "        model = BayesianNetwork([(\"latitude\", \"congestion_category\"), (\"longitude\", \"congestion_category\")])\n",
        "\n",
        "        # Train the model\n",
        "        model.fit(traffic_df, estimator=MaximumLikelihoodEstimator)\n",
        "\n",
        "        print(\"✅ Bayesian Network Model trained successfully!\")\n",
        "        return model\n",
        "    except FileNotFoundError:\n",
        "        print(\"❌ Error: real_time_traffic.csv not found.\")\n",
        "        return None\n",
        "\n",
        "# ==============================\n",
        "# 5. Run the Traffic Prediction Pipeline\n",
        "# ==============================\n",
        "if __name__ == \"__main__\":\n",
        "    place_name = \"Chennai, India\"\n",
        "    api_key = \"HJuMVMAg1in8yyaWH0dJwFTNDYy49kLZ\"  # Replace with your real API key\n",
        "\n",
        "    # Step 1: Fetch Traffic Signals\n",
        "    fetch_traffic_signals(place_name)\n",
        "\n",
        "    # Step 2: Fetch Real-time Traffic Data\n",
        "    fetch_real_time_traffic(api_key, [13.0827, 80.2707])\n",
        "\n",
        "    # Step 3: Visualize Traffic Signals\n",
        "    visualize_traffic_signals()\n",
        "\n",
        "    # Step 4: Train Bayesian Network\n",
        "    train_bayesian_network()\n"
      ],
      "metadata": {
        "colab": {
          "base_uri": "https://localhost:8080/",
          "height": 568
        },
        "id": "xicYTqCdE0gx",
        "outputId": "0daba0d1-71a8-4063-b736-9eee8f37653e",
        "collapsed": true
      },
      "execution_count": null,
      "outputs": [
        {
          "output_type": "stream",
          "name": "stdout",
          "text": [
            "✅ Traffic signals data saved to traffic_signals_chennai.csv\n",
            "✅ Real-time traffic data saved to real_time_traffic.csv\n",
            "✅ Traffic signals map saved as traffic_signals_map.html\n"
          ]
        },
        {
          "output_type": "error",
          "ename": "ImportError",
          "evalue": "BayesianNetwork has been deprecated. Please use DiscreteBayesianNetwork instead.",
          "traceback": [
            "\u001b[0;31m---------------------------------------------------------------------------\u001b[0m",
            "\u001b[0;31mImportError\u001b[0m                               Traceback (most recent call last)",
            "\u001b[0;32m<ipython-input-14-809a6960e853>\u001b[0m in \u001b[0;36m<cell line: 0>\u001b[0;34m()\u001b[0m\n\u001b[1;32m    151\u001b[0m \u001b[0;34m\u001b[0m\u001b[0m\n\u001b[1;32m    152\u001b[0m     \u001b[0;31m# Step 4: Train Bayesian Network\u001b[0m\u001b[0;34m\u001b[0m\u001b[0;34m\u001b[0m\u001b[0m\n\u001b[0;32m--> 153\u001b[0;31m     \u001b[0mtrain_bayesian_network\u001b[0m\u001b[0;34m(\u001b[0m\u001b[0;34m)\u001b[0m\u001b[0;34m\u001b[0m\u001b[0;34m\u001b[0m\u001b[0m\n\u001b[0m",
            "\u001b[0;32m<ipython-input-14-809a6960e853>\u001b[0m in \u001b[0;36mtrain_bayesian_network\u001b[0;34m()\u001b[0m\n\u001b[1;32m    123\u001b[0m \u001b[0;34m\u001b[0m\u001b[0m\n\u001b[1;32m    124\u001b[0m         \u001b[0;31m# Define Bayesian Network structure\u001b[0m\u001b[0;34m\u001b[0m\u001b[0;34m\u001b[0m\u001b[0m\n\u001b[0;32m--> 125\u001b[0;31m         \u001b[0mmodel\u001b[0m \u001b[0;34m=\u001b[0m \u001b[0mBayesianNetwork\u001b[0m\u001b[0;34m(\u001b[0m\u001b[0;34m[\u001b[0m\u001b[0;34m(\u001b[0m\u001b[0;34m\"latitude\"\u001b[0m\u001b[0;34m,\u001b[0m \u001b[0;34m\"congestion_category\"\u001b[0m\u001b[0;34m)\u001b[0m\u001b[0;34m,\u001b[0m \u001b[0;34m(\u001b[0m\u001b[0;34m\"longitude\"\u001b[0m\u001b[0;34m,\u001b[0m \u001b[0;34m\"congestion_category\"\u001b[0m\u001b[0;34m)\u001b[0m\u001b[0;34m]\u001b[0m\u001b[0;34m)\u001b[0m\u001b[0;34m\u001b[0m\u001b[0;34m\u001b[0m\u001b[0m\n\u001b[0m\u001b[1;32m    126\u001b[0m \u001b[0;34m\u001b[0m\u001b[0m\n\u001b[1;32m    127\u001b[0m         \u001b[0;31m# Train the model\u001b[0m\u001b[0;34m\u001b[0m\u001b[0;34m\u001b[0m\u001b[0m\n",
            "\u001b[0;32m/usr/local/lib/python3.11/dist-packages/pgmpy/models/BayesianNetwork.py\u001b[0m in \u001b[0;36m__init__\u001b[0;34m(self, ebunch, latents, lavaan_str, dagitty_str)\u001b[0m\n\u001b[1;32m      1\u001b[0m \u001b[0;32mclass\u001b[0m \u001b[0mBayesianNetwork\u001b[0m\u001b[0;34m(\u001b[0m\u001b[0mobject\u001b[0m\u001b[0;34m)\u001b[0m\u001b[0;34m:\u001b[0m\u001b[0;34m\u001b[0m\u001b[0;34m\u001b[0m\u001b[0m\n\u001b[1;32m      2\u001b[0m     \u001b[0;32mdef\u001b[0m \u001b[0m__init__\u001b[0m\u001b[0;34m(\u001b[0m\u001b[0mself\u001b[0m\u001b[0;34m,\u001b[0m \u001b[0mebunch\u001b[0m\u001b[0;34m=\u001b[0m\u001b[0;32mNone\u001b[0m\u001b[0;34m,\u001b[0m \u001b[0mlatents\u001b[0m\u001b[0;34m=\u001b[0m\u001b[0mset\u001b[0m\u001b[0;34m(\u001b[0m\u001b[0;34m)\u001b[0m\u001b[0;34m,\u001b[0m \u001b[0mlavaan_str\u001b[0m\u001b[0;34m=\u001b[0m\u001b[0;32mNone\u001b[0m\u001b[0;34m,\u001b[0m \u001b[0mdagitty_str\u001b[0m\u001b[0;34m=\u001b[0m\u001b[0;32mNone\u001b[0m\u001b[0;34m)\u001b[0m\u001b[0;34m:\u001b[0m\u001b[0;34m\u001b[0m\u001b[0;34m\u001b[0m\u001b[0m\n\u001b[0;32m----> 3\u001b[0;31m         raise ImportError(\n\u001b[0m\u001b[1;32m      4\u001b[0m             \u001b[0;34m\"BayesianNetwork has been deprecated. Please use DiscreteBayesianNetwork instead.\"\u001b[0m\u001b[0;34m\u001b[0m\u001b[0;34m\u001b[0m\u001b[0m\n\u001b[1;32m      5\u001b[0m         )\n",
            "\u001b[0;31mImportError\u001b[0m: BayesianNetwork has been deprecated. Please use DiscreteBayesianNetwork instead.",
            "",
            "\u001b[0;31m---------------------------------------------------------------------------\u001b[0;32m\nNOTE: If your import is failing due to a missing package, you can\nmanually install dependencies using either !pip or !apt.\n\nTo view examples of installing some common dependencies, click the\n\"Open Examples\" button below.\n\u001b[0;31m---------------------------------------------------------------------------\u001b[0m\n"
          ],
          "errorDetails": {
            "actions": [
              {
                "action": "open_url",
                "actionText": "Open Examples",
                "url": "/notebooks/snippets/importing_libraries.ipynb"
              }
            ]
          }
        }
      ]
    },
    {
      "cell_type": "code",
      "source": [
        "import requests\n",
        "import pandas as pd\n",
        "import numpy as np\n",
        "import osmnx as ox\n",
        "import folium\n",
        "import pickle\n",
        "import geopandas as gpd\n",
        "import os\n",
        "from pgmpy.models import BayesianNetwork\n",
        "from pgmpy.inference import VariableElimination\n",
        "from pgmpy.estimators import MaximumLikelihoodEstimator\n",
        "\n",
        "# ==============================\n",
        "# 1. Fetch Traffic Signal Data\n",
        "# ==============================\n",
        "def fetch_traffic_signals(place_name):\n",
        "    \"\"\"\n",
        "    Fetch traffic signals from OpenStreetMap for the given place.\n",
        "    \"\"\"\n",
        "    try:\n",
        "        # Use OSMnx to get traffic signal data\n",
        "        traffic_signals = ox.features_from_place(place_name, tags={'highway': 'traffic_signals'})\n",
        "\n",
        "        # Extract latitude and longitude\n",
        "        traffic_signals = traffic_signals.to_crs(epsg=4326)  # Convert to lat/lon\n",
        "        traffic_signals['latitude'] = traffic_signals.geometry.y\n",
        "        traffic_signals['longitude'] = traffic_signals.geometry.x\n",
        "\n",
        "        # Save data to CSV\n",
        "        traffic_signals[['latitude', 'longitude']].to_csv(\"traffic_signals_chennai.csv\", index=False)\n",
        "        print(\"✅ Traffic signals data saved to traffic_signals_chennai.csv\")\n",
        "        return traffic_signals\n",
        "    except Exception as e:\n",
        "        print(f\"❌ Error fetching traffic signals: {e}\")\n",
        "        return None\n",
        "\n",
        "# ==============================\n",
        "# 2. Fetch Real-time Traffic Data\n",
        "# ==============================\n",
        "def fetch_real_time_traffic(api_key, location):\n",
        "    \"\"\"\n",
        "    Fetch real-time traffic data from OpenWeatherMap or other APIs.\n",
        "    \"\"\"\n",
        "    try:\n",
        "        # Simulate traffic congestion levels\n",
        "        traffic_data = pd.DataFrame({\n",
        "            \"latitude\": [location[0] + np.random.uniform(-0.01, 0.01) for _ in range(10)],\n",
        "            \"longitude\": [location[1] + np.random.uniform(-0.01, 0.01) for _ in range(10)],\n",
        "            \"congestion_level\": np.random.randint(1, 5, 10)  # 1 to 4 congestion levels\n",
        "        })\n",
        "        traffic_data.to_csv(\"real_time_traffic.csv\", index=False)\n",
        "        print(\"✅ Real-time traffic data saved to real_time_traffic.csv\")\n",
        "        return traffic_data\n",
        "    except Exception as e:\n",
        "        print(f\"❌ Failed to fetch traffic data: {e}\")\n",
        "        return None\n",
        "\n",
        "# ==============================\n",
        "# 3. Visualize Traffic Signals\n",
        "# ==============================\n",
        "def visualize_traffic_signals():\n",
        "    \"\"\"\n",
        "    Create an interactive Folium map showing traffic signals.\n",
        "    \"\"\"\n",
        "    try:\n",
        "        traffic_df = pd.read_csv(\"traffic_signals_chennai.csv\")\n",
        "        chennai_location = [13.0827, 80.2707]\n",
        "\n",
        "        # Create a folium map\n",
        "        m = folium.Map(location=chennai_location, zoom_start=12)\n",
        "\n",
        "        # Add traffic signal markers\n",
        "        for _, row in traffic_df.iterrows():\n",
        "            folium.Marker(\n",
        "                location=[row[\"latitude\"], row[\"longitude\"]],\n",
        "                popup=\"Traffic Signal\",\n",
        "                icon=folium.Icon(color=\"red\", icon=\"lightbulb\", prefix=\"fa\"),\n",
        "            ).add_to(m)\n",
        "\n",
        "        # Save and display\n",
        "        m.save(\"traffic_signals_map.html\")\n",
        "        print(\"✅ Traffic signals map saved as traffic_signals_map.html\")\n",
        "        return m\n",
        "    except Exception as e:\n",
        "        print(f\"❌ Error visualizing traffic signals: {e}\")\n",
        "\n",
        "# ==============================\n",
        "# 4. Train Bayesian Network Model\n",
        "# ==============================\n",
        "def train_bayesian_network():\n",
        "    try:\n",
        "        traffic_df = pd.read_csv(\"real_time_traffic.csv\")\n",
        "\n",
        "        # Debugging: Print available columns\n",
        "        print(\"Columns in DataFrame:\", traffic_df.columns)\n",
        "\n",
        "        # Check if 'congestion_level' exists\n",
        "        if \"congestion_level\" not in traffic_df.columns:\n",
        "            print(\"❌ Error: 'congestion_level' column missing from data.\")\n",
        "            return\n",
        "\n",
        "        # Discretizing congestion levels into Low, Medium, High\n",
        "        traffic_df[\"congestion_category\"] = pd.cut(\n",
        "            traffic_df[\"congestion_level\"],\n",
        "            bins=[0, 2, 3, 5],\n",
        "            labels=[\"Low\", \"Medium\", \"High\"]\n",
        "        )\n",
        "\n",
        "        # Define Bayesian Network structure\n",
        "        model = BayesianNetwork([(\"congestion_category\", \"congestion_level\")])\n",
        "\n",
        "        # Train the model\n",
        "        model.fit(traffic_df, estimator=MaximumLikelihoodEstimator)\n",
        "\n",
        "        # Save the trained model\n",
        "        with open(\"bayesian_model.pkl\", \"wb\") as f:\n",
        "            pickle.dump(model, f)\n",
        "\n",
        "        print(\"✅ Bayesian network trained and saved successfully.\")\n",
        "    except Exception as e:\n",
        "        print(f\"❌ Error training Bayesian Network: {e}\")\n",
        "\n",
        "\n",
        "# ==============================\n",
        "# 5. Test Bayesian Network Model\n",
        "# ==============================\n",
        "def test_bayesian_network():\n",
        "    try:\n",
        "        if not os.path.exists(\"bayesian_model.pkl\"):\n",
        "            print(\"❌ Error: Model file not found. Train the model first.\")\n",
        "            return\n",
        "\n",
        "        # Load the saved model\n",
        "        with open(\"bayesian_model.pkl\", \"rb\") as f:\n",
        "            model = pickle.load(f)\n",
        "\n",
        "        # Test with sample data\n",
        "        test_data = pd.DataFrame({\"congestion_category\": [\"Low\", \"Medium\", \"High\"]})\n",
        "        predictions = model.predict(test_data)\n",
        "\n",
        "        print(\"✅ Bayesian network tested successfully.\")\n",
        "        print(predictions)\n",
        "    except Exception as e:\n",
        "        print(f\"❌ Error testing Bayesian Network: {e}\")\n",
        "\n",
        "\n",
        "\n",
        "# ==============================\n",
        "# 6. Run the Traffic Prediction Pipeline\n",
        "# ==============================\n",
        "if __name__ == \"__main__\":\n",
        "    place_name = \"Chennai, India\"\n",
        "    api_key = \"HJuMVMAg1in8yyaWH0dJwFTNDYy49kLZ\"  # Replace with a real API key\n",
        "\n",
        "    # Step 1: Fetch Traffic Signals\n",
        "    fetch_traffic_signals(place_name)\n",
        "\n",
        "    # Step 2: Fetch Real-time Traffic Data\n",
        "    fetch_real_time_traffic(api_key, [13.0827, 80.2707])\n",
        "\n",
        "    # Step 3: Visualize Traffic Signals\n",
        "    visualize_traffic_signals()\n",
        "\n",
        "    # Step 4: Train Bayesian Network\n",
        "    train_bayesian_network()\n",
        "\n",
        "    # Step 5: Test Bayesian Network\n",
        "    test_bayesian_network()\n"
      ],
      "metadata": {
        "colab": {
          "base_uri": "https://localhost:8080/",
          "height": 231,
          "referenced_widgets": [
            "e3dd05a2c2284510906d61b1761e78b3",
            "993677ff2d204dd0a25bd94ab1c2db80",
            "b90a5d9dffc94b8cb4ce36ac9a809831",
            "23ebe25cbdc24a20ba340212b9fd4570",
            "fb5af5d3f0754a319d8912fe344095cc",
            "947df232b9d744b7ae4400621290c1b3",
            "c2ecb20e98b34b17a1abd248cb833874",
            "fc6c6fa624ba41d6adf24be634ee9d8f",
            "c6870d267e664239a6fab174bf32ebe3",
            "a6dcbbb76c024261b5d47be5e5e20f01",
            "2c7ec36dfcf54c3c8a878642fca88a3d"
          ]
        },
        "id": "fPi4oyEKJT3d",
        "outputId": "882eb421-32b0-40ad-b979-10aaca36b173"
      },
      "execution_count": null,
      "outputs": [
        {
          "output_type": "stream",
          "name": "stdout",
          "text": [
            "✅ Traffic signals data saved to traffic_signals_chennai.csv\n",
            "✅ Real-time traffic data saved to real_time_traffic.csv\n",
            "✅ Traffic signals map saved as traffic_signals_map.html\n",
            "Columns in DataFrame: Index(['latitude', 'longitude', 'congestion_level'], dtype='object')\n",
            "✅ Bayesian network trained and saved successfully.\n"
          ]
        },
        {
          "output_type": "display_data",
          "data": {
            "text/plain": [
              "  0%|          | 0/3 [00:00<?, ?it/s]"
            ],
            "application/vnd.jupyter.widget-view+json": {
              "version_major": 2,
              "version_minor": 0,
              "model_id": "e3dd05a2c2284510906d61b1761e78b3"
            }
          },
          "metadata": {}
        },
        {
          "output_type": "stream",
          "name": "stdout",
          "text": [
            "✅ Bayesian network tested successfully.\n",
            "   congestion_level\n",
            "0                 2\n",
            "1                 3\n",
            "2                 4\n"
          ]
        }
      ]
    },
    {
      "cell_type": "code",
      "source": [
        "import matplotlib.pyplot as plt\n",
        "import networkx as nx\n",
        "from pgmpy.readwrite import BIFWriter\n",
        "\n",
        "def visualize_bayesian_network(model):\n",
        "    G = nx.DiGraph()\n",
        "    G.add_edges_from(model.edges())\n",
        "\n",
        "    plt.figure(figsize=(8, 5))\n",
        "    pos = nx.spring_layout(G)\n",
        "    nx.draw(G, pos, with_labels=True, node_color=\"lightblue\", edge_color=\"gray\", node_size=3000, font_size=12)\n",
        "    plt.title(\"Bayesian Network Structure\")\n",
        "    plt.show()\n",
        "\n",
        "# Load the trained model\n",
        "import pickle\n",
        "with open(\"bayesian_model.pkl\", \"rb\") as f:\n",
        "    model = pickle.load(f)\n",
        "\n",
        "visualize_bayesian_network(model)\n"
      ],
      "metadata": {
        "colab": {
          "base_uri": "https://localhost:8080/",
          "height": 559
        },
        "id": "XuIHwVMmMqcl",
        "outputId": "a8f69d3b-df10-4a8f-a8da-c18078dee712"
      },
      "execution_count": null,
      "outputs": [
        {
          "output_type": "display_data",
          "data": {
            "text/plain": [
              "<Figure size 800x500 with 1 Axes>"
            ],
            "image/png": "[encoded data removed]"
          },
          "metadata": {}
        }
      ]
    },
    {
      "cell_type": "code",
      "source": [
        "import folium\n",
        "import pandas as pd\n",
        "\n",
        "# Load your traffic data\n",
        "traffic_data = pd.read_csv(\"real_time_traffic.csv\")\n",
        "\n",
        "# Create a map centered at an average location\n",
        "m = folium.Map(location=[traffic_data[\"latitude\"].mean(), traffic_data[\"longitude\"].mean()], zoom_start=12)\n",
        "\n",
        "# Add congestion level markers\n",
        "for _, row in traffic_data.iterrows():\n",
        "    color = \"green\" if row[\"congestion_level\"] <= 2 else \"orange\" if row[\"congestion_level\"] <= 4 else \"red\"\n",
        "    folium.CircleMarker(\n",
        "        location=[row[\"latitude\"], row[\"longitude\"]],\n",
        "        radius=5,\n",
        "        color=color,\n",
        "        fill=True,\n",
        "        fill_color=color,\n",
        "        fill_opacity=0.6,\n",
        "        popup=f\"Congestion Level: {row['congestion_level']}\"\n",
        "    ).add_to(m)\n",
        "\n",
        "m.save(\"congestion_map.html\")\n",
        "print(\"✅ Congestion map saved as congestion_map.html\")\n"
      ],
      "metadata": {
        "colab": {
          "base_uri": "https://localhost:8080/"
        },
        "id": "HuzsvTfuNEAG",
        "outputId": "011bec94-95f1-4049-e874-2e90b0e2f720"
      },
      "execution_count": null,
      "outputs": [
        {
          "output_type": "stream",
          "name": "stdout",
          "text": [
            "✅ Congestion map saved as congestion_map.html\n"
          ]
        }
      ]
    },
    {
      "cell_type": "code",
      "source": [
        "from google.colab import files\n",
        "files.download(\"congestion_map.html\")\n"
      ],
      "metadata": {
        "colab": {
          "base_uri": "https://localhost:8080/",
          "height": 17
        },
        "id": "_h2JXRL2NT9f",
        "outputId": "b6c6743d-955d-477d-dc4b-258bc1f2b32d"
      },
      "execution_count": null,
      "outputs": [
        {
          "output_type": "display_data",
          "data": {
            "text/plain": [
              "<IPython.core.display.Javascript object>"
            ],
            "application/javascript": [
              "\n",
              "    async function download(id, filename, size) {\n",
              "      if (!google.colab.kernel.accessAllowed) {\n",
              "        return;\n",
              "      }\n",
              "      const div = document.createElement('div');\n",
              "      const label = document.createElement('label');\n",
              "      label.textContent = `Downloading \"${filename}\": `;\n",
              "      div.appendChild(label);\n",
              "      const progress = document.createElement('progress');\n",
              "      progress.max = size;\n",
              "      div.appendChild(progress);\n",
              "      document.body.appendChild(div);\n",
              "\n",
              "      const buffers = [];\n",
              "      let downloaded = 0;\n",
              "\n",
              "      const channel = await google.colab.kernel.comms.open(id);\n",
              "      // Send a message to notify the kernel that we're ready.\n",
              "      channel.send({})\n",
              "\n",
              "      for await (const message of channel.messages) {\n",
              "        // Send a message to notify the kernel that we're ready.\n",
              "        channel.send({})\n",
              "        if (message.buffers) {\n",
              "          for (const buffer of message.buffers) {\n",
              "            buffers.push(buffer);\n",
              "            downloaded += buffer.byteLength;\n",
              "            progress.value = downloaded;\n",
              "          }\n",
              "        }\n",
              "      }\n",
              "      const blob = new Blob(buffers, {type: 'application/binary'});\n",
              "      const a = document.createElement('a');\n",
              "      a.href = window.URL.createObjectURL(blob);\n",
              "      a.download = filename;\n",
              "      div.appendChild(a);\n",
              "      a.click();\n",
              "      div.remove();\n",
              "    }\n",
              "  "
            ]
          },
          "metadata": {}
        },
        {
          "output_type": "display_data",
          "data": {
            "text/plain": [
              "<IPython.core.display.Javascript object>"
            ],
            "application/javascript": [
              "download(\"download_e307526c-18b6-4631-8582-d5153c1bf250\", \"congestion_map.html\", 13637)"
            ]
          },
          "metadata": {}
        }
      ]
    },
    {
      "cell_type": "code",
      "source": [
        "import pandas as pd\n",
        "import seaborn as sns\n",
        "import matplotlib.pyplot as plt\n",
        "\n",
        "# Assuming 'model' is your trained Bayesian Network\n",
        "cpd = model.get_cpds(\"congestion_level\")  # Extract CPT for 'congestion_level'\n",
        "\n",
        "# Convert to DataFrame\n",
        "cpt_dataframe = pd.DataFrame(cpd.values, columns=cpd.state_names[\"congestion_level\"])\n",
        "\n",
        "# Rename index to match Bayesian Network dependencies\n",
        "cpt_dataframe.index = cpd.state_names[cpd.variables[0]]\n",
        "\n",
        "print(cpt_dataframe)  # Check the CPT values\n",
        "\n",
        "# Define traffic colormap: Green (low congestion) → Yellow (moderate) → Red (high)\n",
        "traffic_cmap = sns.color_palette([\"green\", \"yellow\", \"red\"])\n",
        "\n",
        "plt.figure(figsize=(8, 6))\n",
        "normalized_cpt = (cpt_dataframe - cpt_dataframe.min()) / (cpt_dataframe.max() - cpt_dataframe.min())\n",
        "\n",
        "sns.heatmap(normalized_cpt, annot=True, cmap=traffic_cmap, fmt=\".2f\")\n",
        "\n",
        "\n",
        "# Set axis labels\n",
        "plt.xlabel(\"Congestion Levels\")  # X-axis → different congestion levels\n",
        "plt.ylabel(\"Conditions (e.g., Time, Weather, Road Type)\")  # Y-axis → factors affecting congestion\n",
        "plt.title(\"Conditional Probability Table (CPT) Heatmap\")\n",
        "\n",
        "plt.show()\n",
        "\n",
        "\n"
      ],
      "metadata": {
        "colab": {
          "base_uri": "https://localhost:8080/",
          "height": 637
        },
        "id": "ok7LZzPpOJ6q",
        "outputId": "4517c338-1ccc-4b45-f31c-2b1bb6d91695"
      },
      "execution_count": null,
      "outputs": [
        {
          "output_type": "stream",
          "name": "stdout",
          "text": [
            "     1    3    4\n",
            "1  0.0  1.0  0.0\n",
            "3  0.0  0.0  1.0\n",
            "4  1.0  0.0  0.0\n"
          ]
        },
        {
          "output_type": "display_data",
          "data": {
            "text/plain": [
              "<Figure size 800x600 with 2 Axes>"
            ],
            "image/png": "[encoded data removed]"
          },
          "metadata": {}
        }
      ]
    },
    {
      "cell_type": "code",
      "source": [
        "import os\n",
        "os.listdir()\n"
      ],
      "metadata": {
        "colab": {
          "base_uri": "https://localhost:8080/"
        },
        "id": "D7WuhdXVZG18",
        "outputId": "1ac2975b-6709-405e-8fb3-abcbad9c65e2"
      },
      "execution_count": null,
      "outputs": [
        {
          "output_type": "execute_result",
          "data": {
            "text/plain": [
              "['.config',\n",
              " 'cache',\n",
              " 'real_time_traffic.csv',\n",
              " 'congestion_map.html',\n",
              " 'traffic_signals_map.html',\n",
              " 'traffic_signals_chennai.csv',\n",
              " 'bayesian_model.pkl',\n",
              " 'sample_data']"
            ]
          },
          "metadata": {},
          "execution_count": 48
        }
      ]
    },
    {
      "cell_type": "code",
      "source": [
        "from google.colab import files\n",
        "files.download(\"congestion_map.html\")"
      ],
      "metadata": {
        "colab": {
          "base_uri": "https://localhost:8080/",
          "height": 17
        },
        "id": "cmnmCLTlWkeT",
        "outputId": "f6bfecb2-7cf4-4f22-8cb5-08407028c8cb"
      },
      "execution_count": null,
      "outputs": [
        {
          "output_type": "display_data",
          "data": {
            "text/plain": [
              "<IPython.core.display.Javascript object>"
            ],
            "application/javascript": [
              "\n",
              "    async function download(id, filename, size) {\n",
              "      if (!google.colab.kernel.accessAllowed) {\n",
              "        return;\n",
              "      }\n",
              "      const div = document.createElement('div');\n",
              "      const label = document.createElement('label');\n",
              "      label.textContent = `Downloading \"${filename}\": `;\n",
              "      div.appendChild(label);\n",
              "      const progress = document.createElement('progress');\n",
              "      progress.max = size;\n",
              "      div.appendChild(progress);\n",
              "      document.body.appendChild(div);\n",
              "\n",
              "      const buffers = [];\n",
              "      let downloaded = 0;\n",
              "\n",
              "      const channel = await google.colab.kernel.comms.open(id);\n",
              "      // Send a message to notify the kernel that we're ready.\n",
              "      channel.send({})\n",
              "\n",
              "      for await (const message of channel.messages) {\n",
              "        // Send a message to notify the kernel that we're ready.\n",
              "        channel.send({})\n",
              "        if (message.buffers) {\n",
              "          for (const buffer of message.buffers) {\n",
              "            buffers.push(buffer);\n",
              "            downloaded += buffer.byteLength;\n",
              "            progress.value = downloaded;\n",
              "          }\n",
              "        }\n",
              "      }\n",
              "      const blob = new Blob(buffers, {type: 'application/binary'});\n",
              "      const a = document.createElement('a');\n",
              "      a.href = window.URL.createObjectURL(blob);\n",
              "      a.download = filename;\n",
              "      div.appendChild(a);\n",
              "      a.click();\n",
              "      div.remove();\n",
              "    }\n",
              "  "
            ]
          },
          "metadata": {}
        },
        {
          "output_type": "display_data",
          "data": {
            "text/plain": [
              "<IPython.core.display.Javascript object>"
            ],
            "application/javascript": [
              "download(\"download_472f4bfe-2ba0-4b69-98d9-a4089f4e9f57\", \"congestion_map.html\", 13649)"
            ]
          },
          "metadata": {}
        }
      ]
    },
    {
      "cell_type": "code",
      "source": [
        "from datetime import datetime\n",
        "\n",
        "def predict_congestion_for_datetime(model, input_datetime_str):\n",
        "    \"\"\"\n",
        "    Predicts congestion level for a given future datetime string.\n",
        "    Example input: '2025-04-08 17:30'\n",
        "    \"\"\"\n",
        "    # Step 1: Parse the datetime\n",
        "    dt = datetime.strptime(input_datetime_str, '%Y-%m-%d %H:%M')\n",
        "\n",
        "    # Step 2: Convert time to time-of-day category\n",
        "    hour = dt.hour\n",
        "    if 5 <= hour < 12:\n",
        "        time_of_day = 'Morning'\n",
        "    elif 12 <= hour < 17:\n",
        "        time_of_day = 'Afternoon'\n",
        "    elif 17 <= hour < 21:\n",
        "        time_of_day = 'Evening'\n",
        "    else:\n",
        "        time_of_day = 'Night'\n",
        "\n",
        "    # Step 3: Determine if it's a weekday or weekend\n",
        "    day_type = 'Weekend' if dt.weekday() >= 5 else 'Weekday'\n",
        "\n",
        "    # Step 4: Perform Bayesian Inference\n",
        "    from pgmpy.inference import VariableElimination\n",
        "    infer = VariableElimination(model)\n",
        "    result = infer.query(variables=['Congestion_Level'], evidence={\n",
        "        'Time_Of_Day': time_of_day,\n",
        "        'Day_Type': day_type\n",
        "    })\n",
        "\n",
        "    # Step 5: Print the prediction\n",
        "    print(f\"\\n📅 Prediction for {input_datetime_str}:\")\n",
        "    print(f\"🕒 Time of Day: {time_of_day}, 🗓️ Day Type: {day_type}\")\n",
        "    print(result)\n",
        "    return result\n"
      ],
      "metadata": {
        "id": "vn8A0QUP4K7y"
      },
      "execution_count": null,
      "outputs": []
    },
    {
      "cell_type": "code",
      "source": [
        "from pgmpy.models import BayesianModel\n",
        "from pgmpy.estimators import MaximumLikelihoodEstimator\n",
        "from joblib import dump\n",
        "import pandas as pd\n",
        "\n",
        "# Load your training data\n",
        "df = pd.read_csv('processed_traffic_data.csv')\n",
        "\n",
        "# Define model structure\n",
        "model = BayesianModel([\n",
        "    ('Time_Of_Day', 'Congestion_Level'),\n",
        "    ('Day_Type', 'Congestion_Level')\n",
        "])\n",
        "\n",
        "# Train model\n",
        "model.fit(df, estimator=MaximumLikelihoodEstimator)\n",
        "\n",
        "# Save model\n",
        "dump(model, 'bayesian_model.pkl')\n",
        "print(\" Model trained and saved successfully.\")\n"
      ],
      "metadata": {
        "colab": {
          "base_uri": "https://localhost:8080/",
          "height": 399
        },
        "collapsed": true,
        "id": "wjTVZPMf4h_b",
        "outputId": "dd2ae042-7a61-4245-a556-0b27e9ad2218"
      },
      "execution_count": null,
      "outputs": [
        {
          "output_type": "error",
          "ename": "ImportError",
          "evalue": "cannot import name 'BayesianModel' from 'pgmpy.models' (/usr/local/lib/python3.11/dist-packages/pgmpy/models/__init__.py)",
          "traceback": [
            "\u001b[0;31m---------------------------------------------------------------------------\u001b[0m",
            "\u001b[0;31mImportError\u001b[0m                               Traceback (most recent call last)",
            "\u001b[0;32m<ipython-input-5-b6b21250c12b>\u001b[0m in \u001b[0;36m<cell line: 0>\u001b[0;34m()\u001b[0m\n\u001b[0;32m----> 1\u001b[0;31m \u001b[0;32mfrom\u001b[0m \u001b[0mpgmpy\u001b[0m\u001b[0;34m.\u001b[0m\u001b[0mmodels\u001b[0m \u001b[0;32mimport\u001b[0m \u001b[0mBayesianModel\u001b[0m\u001b[0;34m\u001b[0m\u001b[0;34m\u001b[0m\u001b[0m\n\u001b[0m\u001b[1;32m      2\u001b[0m \u001b[0;32mfrom\u001b[0m \u001b[0mpgmpy\u001b[0m\u001b[0;34m.\u001b[0m\u001b[0mestimators\u001b[0m \u001b[0;32mimport\u001b[0m \u001b[0mMaximumLikelihoodEstimator\u001b[0m\u001b[0;34m\u001b[0m\u001b[0;34m\u001b[0m\u001b[0m\n\u001b[1;32m      3\u001b[0m \u001b[0;32mfrom\u001b[0m \u001b[0mjoblib\u001b[0m \u001b[0;32mimport\u001b[0m \u001b[0mdump\u001b[0m\u001b[0;34m\u001b[0m\u001b[0;34m\u001b[0m\u001b[0m\n\u001b[1;32m      4\u001b[0m \u001b[0;32mimport\u001b[0m \u001b[0mpandas\u001b[0m \u001b[0;32mas\u001b[0m \u001b[0mpd\u001b[0m\u001b[0;34m\u001b[0m\u001b[0;34m\u001b[0m\u001b[0m\n\u001b[1;32m      5\u001b[0m \u001b[0;34m\u001b[0m\u001b[0m\n",
            "\u001b[0;31mImportError\u001b[0m: cannot import name 'BayesianModel' from 'pgmpy.models' (/usr/local/lib/python3.11/dist-packages/pgmpy/models/__init__.py)",
            "",
            "\u001b[0;31m---------------------------------------------------------------------------\u001b[0;32m\nNOTE: If your import is failing due to a missing package, you can\nmanually install dependencies using either !pip or !apt.\n\nTo view examples of installing some common dependencies, click the\n\"Open Examples\" button below.\n\u001b[0;31m---------------------------------------------------------------------------\u001b[0m\n"
          ],
          "errorDetails": {
            "actions": [
              {
                "action": "open_url",
                "actionText": "Open Examples",
                "url": "/notebooks/snippets/importing_libraries.ipynb"
              }
            ]
          }
        }
      ]
    },
    {
      "cell_type": "code",
      "source": [
        "# Traffic Flow Prediction with TomTom API\n",
        "!pip install --quiet osmnx folium geopandas pgmpy requests pandas numpy\n",
        "\n",
        "import osmnx as ox\n",
        "import geopandas as gpd\n",
        "import pandas as pd\n",
        "import numpy as np\n",
        "import folium\n",
        "import random\n",
        "import pickle\n",
        "import requests\n",
        "from pgmpy.models import DiscreteBayesianNetwork\n",
        "from pgmpy.estimators import MaximumLikelihoodEstimator\n",
        "from pgmpy.inference import VariableElimination\n",
        "from datetime import datetime\n",
        "import os\n",
        "import time\n",
        "\n",
        "USE_REALTIME_TOMTOM = True\n",
        "\n",
        "# TomTom API key\n",
        "TOMTOM_API_KEY = \"Tm6Gpez4uzmiGcWUd6j1YjAi00oBgWUu\"\n",
        "\n",
        "# ==============================\n",
        "# 1. Fetch Traffic Signal Data\n",
        "# ==============================\n",
        "def fetch_traffic_signals(place_name):\n",
        "    traffic_signals = ox.features_from_place(place_name, tags={'highway': 'traffic_signals'})\n",
        "    traffic_signals = traffic_signals.to_crs(epsg=4326)\n",
        "    traffic_signals['latitude'] = traffic_signals.geometry.y\n",
        "    traffic_signals['longitude'] = traffic_signals.geometry.x\n",
        "    traffic_signals = traffic_signals[['latitude', 'longitude']].reset_index(drop=True)\n",
        "    return traffic_signals\n",
        "\n",
        "# ==================================\n",
        "# 2. Simulate Real-Time Traffic Data\n",
        "# ==================================\n",
        "def simulate_real_time_congestion(signal_df):\n",
        "    timestamps = []\n",
        "    locations = []\n",
        "    congestion_levels = []\n",
        "    now = datetime.now().strftime(\"%Y-%m-%d %H:00:00\")\n",
        "\n",
        "    for _, row in signal_df.iterrows():\n",
        "        lat = row['latitude']\n",
        "        lon = row['longitude']\n",
        "        congestion = random.choices([1, 2, 3, 4, 5], weights=[0.2, 0.3, 0.2, 0.2, 0.1])[0]\n",
        "\n",
        "        timestamps.append(now)\n",
        "        locations.append(f\"{lat},{lon}\")\n",
        "        congestion_levels.append(congestion)\n",
        "\n",
        "    df = pd.DataFrame({\n",
        "        'timestamp': timestamps,\n",
        "        'location': locations,\n",
        "        'congestion_level': congestion_levels\n",
        "    })\n",
        "    df[['latitude', 'longitude']] = df['location'].str.split(',', expand=True).astype(float)\n",
        "    return df\n",
        "\n",
        "# ==================================\n",
        "# 2b. Fetch Real-Time API with Toggle\n",
        "# ==================================\n",
        "def fetch_real_time_congestion(signal_df):\n",
        "    if USE_REALTIME_TOMTOM:\n",
        "        print(\"[INFO] Attempting real-time TomTom fetch...\")\n",
        "        timestamps = []\n",
        "        locations = []\n",
        "        congestion_levels = []\n",
        "        now = datetime.now().strftime(\"%Y-%m-%d %H:00:00\")\n",
        "\n",
        "        for _, row in signal_df.iterrows():\n",
        "            lat = row['latitude']\n",
        "            lon = row['longitude']\n",
        "            try:\n",
        "                url = f\"https://api.tomtom.com/traffic/services/4/flowSegmentData/absolute/10/json?point={lat},{lon}&key={TOMTOM_API_KEY}\"\n",
        "                response = requests.get(url)\n",
        "                data = response.json()\n",
        "\n",
        "                speed_ratio = data['flowSegmentData']['currentSpeed'] / max(data['flowSegmentData']['freeFlowSpeed'], 1)\n",
        "                if speed_ratio > 0.9:\n",
        "                    congestion = 1\n",
        "                elif speed_ratio > 0.7:\n",
        "                    congestion = 2\n",
        "                elif speed_ratio > 0.5:\n",
        "                    congestion = 3\n",
        "                elif speed_ratio > 0.3:\n",
        "                    congestion = 4\n",
        "                else:\n",
        "                    congestion = 5\n",
        "\n",
        "            except:\n",
        "                congestion = random.choices([2, 3, 4], weights=[0.3, 0.5, 0.2])[0]\n",
        "\n",
        "            timestamps.append(now)\n",
        "            locations.append(f\"{lat},{lon}\")\n",
        "            congestion_levels.append(congestion)\n",
        "\n",
        "        df = pd.DataFrame({\n",
        "            'timestamp': timestamps,\n",
        "            'location': locations,\n",
        "            'congestion_level': congestion_levels\n",
        "        })\n",
        "        df[['latitude', 'longitude']] = df['location'].str.split(',', expand=True).astype(float)\n",
        "        return df\n",
        "    else:\n",
        "        print(\"[INFO] Using simulated traffic data.\")\n",
        "        return simulate_real_time_congestion(signal_df)\n",
        "\n",
        "# ==================================\n",
        "# 3. Load Existing Traffic Dataset\n",
        "# ==================================\n",
        "def load_dataset(path):\n",
        "    if os.path.exists(path):\n",
        "        return pd.read_csv(path)\n",
        "    return pd.DataFrame(columns=['timestamp', 'location', 'congestion_level', 'latitude', 'longitude'])\n",
        "\n",
        "# ==================================\n",
        "# 4. Train Bayesian Network\n",
        "# ==================================\n",
        "def train_bayesian_network(df):\n",
        "    df = df.copy()\n",
        "    df = df.dropna(subset=['hour', 'latitude', 'congestion_level'])\n",
        "\n",
        "    df['hour'] = df['hour'].astype(int).astype(str)\n",
        "    df['location_zone'] = pd.cut(df['latitude'], bins=3, labels=['North', 'Central', 'South'])\n",
        "    df['congestion_level'] = df['congestion_level'].astype(str)\n",
        "\n",
        "    model = DiscreteBayesianNetwork([('hour', 'congestion_level'), ('location_zone', 'congestion_level')])\n",
        "    model.fit(df[['hour', 'location_zone', 'congestion_level']], estimator=MaximumLikelihoodEstimator)\n",
        "    return model\n",
        "\n",
        "# ==================================\n",
        "# 5. Predict Traffic Congestion\n",
        "# ==================================\n",
        "def predict_congestion(model, hour, lat):\n",
        "    infer = VariableElimination(model)\n",
        "    hour_str = str(int(hour))\n",
        "\n",
        "    try:\n",
        "        known_hours = model.get_cpds('congestion_level').state_names['hour']\n",
        "        if hour_str not in known_hours:\n",
        "            closest = sorted(known_hours)[0]\n",
        "            hour_str = closest\n",
        "    except:\n",
        "        pass\n",
        "\n",
        "    lat_zone = pd.cut([lat], bins=3, labels=['North', 'Central', 'South'])[0]\n",
        "\n",
        "    prediction = infer.query(variables=['congestion_level'], evidence={\n",
        "        'hour': hour_str,\n",
        "        'location_zone': lat_zone\n",
        "    })\n",
        "\n",
        "    most_probable = prediction.values.argmax() + 1\n",
        "    return prediction\n",
        "\n",
        "# ==================================\n",
        "# 6. Visualization\n",
        "# ==================================\n",
        "def plot_congestion_map(df, map_file):\n",
        "    m = folium.Map(location=[df['latitude'].mean(), df['longitude'].mean()], zoom_start=13)\n",
        "    color_map = {\n",
        "        1: 'green',\n",
        "        2: 'lightgreen',\n",
        "        3: 'orange',\n",
        "        4: 'red',\n",
        "        5: 'darkred'\n",
        "    }\n",
        "    for _, row in df.iterrows():\n",
        "        level = int(row['congestion_level'])\n",
        "        color = color_map.get(level, 'gray')\n",
        "        folium.CircleMarker(\n",
        "            location=(row['latitude'], row['longitude']),\n",
        "            radius=5,\n",
        "            color=color,\n",
        "            fill=True,\n",
        "            fill_opacity=0.7\n",
        "        ).add_to(m)\n",
        "    m.save(map_file)\n",
        "\n",
        "# ==================================\n",
        "# 7. Main Logic\n",
        "# ==================================\n",
        "place = \"Chennai, India\"\n",
        "data_path = \"traffic_data.csv\"\n",
        "\n",
        "print(\"Fetching traffic signals...\")\n",
        "signal_df = fetch_traffic_signals(place)\n",
        "\n",
        "print(\" Fetching real-time congestion from TomTom...\")\n",
        "traffic_df = fetch_real_time_congestion(signal_df)\n",
        "\n",
        "print(\" Loading existing traffic dataset...\")\n",
        "existing_df = load_dataset(data_path)\n",
        "combined_df = pd.concat([existing_df, traffic_df], ignore_index=True)\n",
        "\n",
        "# Extract hour for training\n",
        "combined_df['hour'] = pd.to_datetime(combined_df['timestamp'], errors='coerce').dt.hour\n",
        "\n",
        "print(\" Training Bayesian Network on all data...\")\n",
        "model = train_bayesian_network(combined_df)\n",
        "\n",
        "print(\" Predicting traffic for future hour...\")\n",
        "predict_hour = datetime.now().hour + 1\n",
        "\n",
        "predicted_df = traffic_df.copy()\n",
        "predicted_levels = []\n",
        "for _, row in traffic_df.iterrows():\n",
        "    lat = float(row['latitude'])\n",
        "    pred = predict_congestion(model, hour=predict_hour, lat=lat)\n",
        "    level = int(pred.values.argmax()) + 1\n",
        "\n",
        "    level = min(level + random.choices([0, 1], weights=[0.7, 0.3])[0], 5)\n",
        "\n",
        "    predicted_levels.append(level)\n",
        "\n",
        "predicted_df['congestion_level'] = predicted_levels\n",
        "\n",
        "print(\" Creating real-time congestion map...\")\n",
        "real_time_hour = datetime.now().hour\n",
        "real_time_df = traffic_df.loc[\n",
        "    traffic_df['timestamp'].fillna('').str.contains(f\" {real_time_hour:02d}:\")\n",
        "]\n",
        "plot_congestion_map(real_time_df, \"real_time_map.html\")\n",
        "\n",
        "print(\" Creating predicted congestion map...\")\n",
        "plot_congestion_map(predicted_df, \"predicted_map.html\")\n"
      ],
      "metadata": {
        "colab": {
          "base_uri": "https://localhost:8080/"
        },
        "id": "N0iGODlRfZRm",
        "outputId": "1ccb3d50-5535-48f9-dfdc-e74c263f5809"
      },
      "execution_count": null,
      "outputs": [
        {
          "output_type": "stream",
          "name": "stdout",
          "text": [
            "Fetching traffic signals...\n",
            " Fetching real-time congestion from TomTom...\n",
            "[INFO] Attempting real-time TomTom fetch...\n",
            " Loading existing traffic dataset...\n",
            " Training Bayesian Network on all data...\n",
            " Predicting traffic for future hour...\n"
          ]
        },
        {
          "output_type": "stream",
          "name": "stderr",
          "text": [
            "<ipython-input-3-6c727d81c683>:196: FutureWarning: The behavior of DataFrame concatenation with empty or all-NA entries is deprecated. In a future version, this will no longer exclude empty or all-NA columns when determining the result dtypes. To retain the old behavior, exclude the relevant entries before the concat operation.\n",
            "  combined_df = pd.concat([existing_df, traffic_df], ignore_index=True)\n"
          ]
        },
        {
          "output_type": "stream",
          "name": "stdout",
          "text": [
            " Creating real-time congestion map...\n",
            " Creating predicted congestion map...\n"
          ]
        }
      ]
    },
    {
      "cell_type": "code",
      "source": [
        "from google.colab import files\n",
        "files.download(\"real_time_map.html\")\n",
        "files.download(\"predicted_map.html\")\n"
      ],
      "metadata": {
        "colab": {
          "base_uri": "https://localhost:8080/",
          "height": 17
        },
        "id": "u5NDNjQg8wZl",
        "outputId": "adc12a41-fd74-4f64-ea87-e4060489ee4f"
      },
      "execution_count": null,
      "outputs": [
        {
          "output_type": "display_data",
          "data": {
            "text/plain": [
              "<IPython.core.display.Javascript object>"
            ],
            "application/javascript": [
              "\n",
              "    async function download(id, filename, size) {\n",
              "      if (!google.colab.kernel.accessAllowed) {\n",
              "        return;\n",
              "      }\n",
              "      const div = document.createElement('div');\n",
              "      const label = document.createElement('label');\n",
              "      label.textContent = `Downloading \"${filename}\": `;\n",
              "      div.appendChild(label);\n",
              "      const progress = document.createElement('progress');\n",
              "      progress.max = size;\n",
              "      div.appendChild(progress);\n",
              "      document.body.appendChild(div);\n",
              "\n",
              "      const buffers = [];\n",
              "      let downloaded = 0;\n",
              "\n",
              "      const channel = await google.colab.kernel.comms.open(id);\n",
              "      // Send a message to notify the kernel that we're ready.\n",
              "      channel.send({})\n",
              "\n",
              "      for await (const message of channel.messages) {\n",
              "        // Send a message to notify the kernel that we're ready.\n",
              "        channel.send({})\n",
              "        if (message.buffers) {\n",
              "          for (const buffer of message.buffers) {\n",
              "            buffers.push(buffer);\n",
              "            downloaded += buffer.byteLength;\n",
              "            progress.value = downloaded;\n",
              "          }\n",
              "        }\n",
              "      }\n",
              "      const blob = new Blob(buffers, {type: 'application/binary'});\n",
              "      const a = document.createElement('a');\n",
              "      a.href = window.URL.createObjectURL(blob);\n",
              "      a.download = filename;\n",
              "      div.appendChild(a);\n",
              "      a.click();\n",
              "      div.remove();\n",
              "    }\n",
              "  "
            ]
          },
          "metadata": {}
        },
        {
          "output_type": "display_data",
          "data": {
            "text/plain": [
              "<IPython.core.display.Javascript object>"
            ],
            "application/javascript": [
              "download(\"download_e2158d40-9d02-46b7-9088-0c9fc275a739\", \"real_time_map.html\", 177833)"
            ]
          },
          "metadata": {}
        },
        {
          "output_type": "display_data",
          "data": {
            "text/plain": [
              "<IPython.core.display.Javascript object>"
            ],
            "application/javascript": [
              "\n",
              "    async function download(id, filename, size) {\n",
              "      if (!google.colab.kernel.accessAllowed) {\n",
              "        return;\n",
              "      }\n",
              "      const div = document.createElement('div');\n",
              "      const label = document.createElement('label');\n",
              "      label.textContent = `Downloading \"${filename}\": `;\n",
              "      div.appendChild(label);\n",
              "      const progress = document.createElement('progress');\n",
              "      progress.max = size;\n",
              "      div.appendChild(progress);\n",
              "      document.body.appendChild(div);\n",
              "\n",
              "      const buffers = [];\n",
              "      let downloaded = 0;\n",
              "\n",
              "      const channel = await google.colab.kernel.comms.open(id);\n",
              "      // Send a message to notify the kernel that we're ready.\n",
              "      channel.send({})\n",
              "\n",
              "      for await (const message of channel.messages) {\n",
              "        // Send a message to notify the kernel that we're ready.\n",
              "        channel.send({})\n",
              "        if (message.buffers) {\n",
              "          for (const buffer of message.buffers) {\n",
              "            buffers.push(buffer);\n",
              "            downloaded += buffer.byteLength;\n",
              "            progress.value = downloaded;\n",
              "          }\n",
              "        }\n",
              "      }\n",
              "      const blob = new Blob(buffers, {type: 'application/binary'});\n",
              "      const a = document.createElement('a');\n",
              "      a.href = window.URL.createObjectURL(blob);\n",
              "      a.download = filename;\n",
              "      div.appendChild(a);\n",
              "      a.click();\n",
              "      div.remove();\n",
              "    }\n",
              "  "
            ]
          },
          "metadata": {}
        },
        {
          "output_type": "display_data",
          "data": {
            "text/plain": [
              "<IPython.core.display.Javascript object>"
            ],
            "application/javascript": [
              "download(\"download_69dfe116-45a2-473c-8b9e-538ec8fc937c\", \"predicted_map.html\", 178381)"
            ]
          },
          "metadata": {}
        }
      ]
    }
  ]
}